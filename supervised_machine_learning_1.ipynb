{
 "cells": [
  {
   "cell_type": "markdown",
   "metadata": {},
   "source": [
    "Задание 1\n",
    "Импортируйте библиотеки pandas и numpy.\n",
    "Загрузите \"Boston House Prices dataset\" из встроенных наборов данных библиотеки sklearn. Создайте датафреймы X и y из этих данных.\n",
    "Разбейте эти датафреймы на тренировочные (X_train, y_train) и тестовые (X_test, y_test) с помощью функции train_test_split так, чтобы размер тестовой выборки\n",
    "составлял 30% от всех данных, при этом аргумент random_state должен быть равен 42.\n",
    "Создайте модель линейной регрессии под названием lr с помощью класса LinearRegression из модуля sklearn.linear_model.\n",
    "Обучите модель на тренировочных данных (используйте все признаки) и сделайте предсказание на тестовых.\n",
    "Вычислите R2 полученных предказаний с помощью r2_score из модуля sklearn.metrics.\n"
   ]
  },
  {
   "cell_type": "code",
   "execution_count": 1,
   "metadata": {},
   "outputs": [],
   "source": [
    "#загрузим библиотеки\n",
    "import numpy as np\n",
    "import pandas as pd\n",
    "import seaborn as sea\n",
    "from matplotlib import pyplot as plt"
   ]
  },
  {
   "cell_type": "code",
   "execution_count": 26,
   "metadata": {},
   "outputs": [],
   "source": [
    "#загрузим модули, нужные для мл\n",
    "from sklearn.datasets import load_boston\n",
    "import warnings\n",
    "from sklearn.model_selection import train_test_split as tts\n",
    "from sklearn.linear_model import LinearRegression as lr\n",
    "from sklearn.preprocessing import StandardScaler as Scal\n",
    "from sklearn.metrics import mean_squared_error as mse\n",
    "from sklearn.metrics import mean_absolute_error as mae\n",
    "from sklearn.metrics import r2_score as r2\n",
    "from sklearn.linear_model import Lasso, Ridge\n",
    "\n",
    "warnings.filterwarnings('ignore')"
   ]
  },
  {
   "cell_type": "code",
   "execution_count": 37,
   "metadata": {},
   "outputs": [],
   "source": [
    "#функция расчета ошибок\n",
    "def errors(Pred, Test):\n",
    "    mse1 = mse(Pred, Test) \n",
    "    mae1 = mae(Pred, Test) \n",
    "    r2_1 = r2(Pred, Test)\n",
    "    return {'mse': mse1, 'mae': mae1, 'r2': r2_1}"
   ]
  },
  {
   "cell_type": "code",
   "execution_count": 68,
   "metadata": {},
   "outputs": [],
   "source": [
    "#функция обучения и проверки модели\n",
    "def form_model(X_train, y_train, X_test, y_test, feats, model):\n",
    "    model.fit(X_train.loc[:,feats], y_train)\n",
    "    y_pred = model.predict(X_test.loc[:,feats])\n",
    "    check = pd.DataFrame({'tst': y_test['price'],\n",
    "                       'prd': y_pred.flatten()})\n",
    "    check['err'] = check.prd - check.tst\n",
    "    return {'Y_pred': y_pred, 'check': check, 'err': errors(y_pred, y_test)}"
   ]
  },
  {
   "cell_type": "code",
   "execution_count": 69,
   "metadata": {},
   "outputs": [
    {
     "data": {
      "text/plain": [
       "dict_keys(['data', 'target', 'feature_names', 'DESCR', 'filename'])"
      ]
     },
     "execution_count": 69,
     "metadata": {},
     "output_type": "execute_result"
    }
   ],
   "source": [
    "#загрузим данные\n",
    "boston = load_boston()\n",
    "boston.keys()"
   ]
  },
  {
   "cell_type": "code",
   "execution_count": 82,
   "metadata": {},
   "outputs": [],
   "source": [
    "#создадим список признаков, и создадим датафреймы с признаками и таргетированной переменной \n",
    "feat_nm = boston.feature_names\n",
    "X = pd.DataFrame(boston.data, columns = feat_nm)\n",
    "Y = pd.DataFrame(boston.target, columns = ['price'])\n",
    "#запишем датасеты в файл для дальнейших заданий\n",
    "X.to_pickle('X.pkl')\n",
    "Y.to_pickle('Y.pkl')"
   ]
  },
  {
   "cell_type": "code",
   "execution_count": 83,
   "metadata": {},
   "outputs": [
    {
     "name": "stdout",
     "output_type": "stream",
     "text": [
      "<class 'pandas.core.frame.DataFrame'>\n",
      "RangeIndex: 506 entries, 0 to 505\n",
      "Data columns (total 13 columns):\n",
      " #   Column   Non-Null Count  Dtype  \n",
      "---  ------   --------------  -----  \n",
      " 0   CRIM     506 non-null    float64\n",
      " 1   ZN       506 non-null    float64\n",
      " 2   INDUS    506 non-null    float64\n",
      " 3   CHAS     506 non-null    float64\n",
      " 4   NOX      506 non-null    float64\n",
      " 5   RM       506 non-null    float64\n",
      " 6   AGE      506 non-null    float64\n",
      " 7   DIS      506 non-null    float64\n",
      " 8   RAD      506 non-null    float64\n",
      " 9   TAX      506 non-null    float64\n",
      " 10  PTRATIO  506 non-null    float64\n",
      " 11  B        506 non-null    float64\n",
      " 12  LSTAT    506 non-null    float64\n",
      "dtypes: float64(13)\n",
      "memory usage: 51.5 KB\n"
     ]
    },
    {
     "data": {
      "text/plain": [
       "None"
      ]
     },
     "metadata": {},
     "output_type": "display_data"
    },
    {
     "name": "stdout",
     "output_type": "stream",
     "text": [
      "<class 'pandas.core.frame.DataFrame'>\n",
      "RangeIndex: 506 entries, 0 to 505\n",
      "Data columns (total 1 columns):\n",
      " #   Column  Non-Null Count  Dtype  \n",
      "---  ------  --------------  -----  \n",
      " 0   price   506 non-null    float64\n",
      "dtypes: float64(1)\n",
      "memory usage: 4.1 KB\n"
     ]
    },
    {
     "data": {
      "text/plain": [
       "None"
      ]
     },
     "metadata": {},
     "output_type": "display_data"
    }
   ],
   "source": [
    "#посмотрим, что в признаках нет пропусков\n",
    "display(X.info())\n",
    "display(Y.info())"
   ]
  },
  {
   "cell_type": "code",
   "execution_count": 84,
   "metadata": {},
   "outputs": [],
   "source": [
    "#сделаем разбивку данных на тестовые и тренировочные\n",
    "X_train, X_test, y_train, y_test = tts(X, Y, test_size = 0.3, random_state = 42)"
   ]
  },
  {
   "cell_type": "code",
   "execution_count": 85,
   "metadata": {},
   "outputs": [
    {
     "name": "stdout",
     "output_type": "stream",
     "text": [
      "      tst        prd        err\n",
      "173  23.6  28.648960   5.048960\n",
      "274  32.4  36.495014   4.095014\n",
      "491  13.6  15.411193   1.811193\n",
      "72   22.8  25.403213   2.603213\n",
      "452  16.1  18.855280   2.755280\n",
      "..    ...        ...        ...\n",
      "441  17.1  17.403672   0.303672\n",
      "23   14.5  13.385941  -1.114059\n",
      "225  50.0  39.983425 -10.016575\n",
      "433  14.3  16.682863   2.382863\n",
      "447  12.6  18.285618   5.685618\n",
      "\n",
      "[152 rows x 3 columns]\n",
      "{'mse': 21.51744423117737, 'mae': 3.16270987145742, 'r2': 0.6693702691495612}\n"
     ]
    }
   ],
   "source": [
    "#проведем обучение и выведем таблицу сравнения тестовых даннных и предсказанных, а так же величины ошибок\n",
    "model = lr()\n",
    "dic = form_model(X_train, y_train, X_test, y_test, feat_nm, model)\n",
    "print(dic['check'])\n",
    "err_1 = dic['err']\n",
    "print(err_1)"
   ]
  },
  {
   "cell_type": "code",
   "execution_count": 86,
   "metadata": {},
   "outputs": [],
   "source": [
    "#стандартизируем переменные для улучшения обучения\n",
    "scale = Scal()\n",
    "X_train_sc = scale.fit_transform(X_train)\n",
    "X_train_sc = pd.DataFrame(X_train_sc, columns = feat_nm)\n",
    "\n",
    "X_test_sc = scale.transform(X_test)\n",
    "X_test_sc = pd.DataFrame(X_test_sc, columns = feat_nm)"
   ]
  },
  {
   "cell_type": "code",
   "execution_count": 87,
   "metadata": {},
   "outputs": [
    {
     "name": "stdout",
     "output_type": "stream",
     "text": [
      "{'mse': 21.51744423117737, 'mae': 3.16270987145742, 'r2': 0.6693702691495612}\n",
      "{'mse': 21.517444231177198, 'mae': 3.1627098714574036, 'r2': 0.669370269149559}\n"
     ]
    }
   ],
   "source": [
    "#обучим модель на новых данных и сравним величины оошибок с первым обучением. Величины почти идентичны\n",
    "dic_2 = form_model(X_train_sc, y_train, X_test_sc, y_test, feat_nm, model)\n",
    "err_2 = dic_2['err']\n",
    "\n",
    "print(err_1)\n",
    "print(err_2)"
   ]
  },
  {
   "cell_type": "code",
   "execution_count": 88,
   "metadata": {},
   "outputs": [
    {
     "name": "stdout",
     "output_type": "stream",
     "text": [
      "AGE        0.298939\n",
      "INDUS      0.343135\n",
      "ZN         0.808440\n",
      "CHAS       0.813864\n",
      "B          1.023752\n",
      "CRIM       1.108346\n",
      "TAX        1.447067\n",
      "NOX        1.798043\n",
      "PTRATIO    2.052322\n",
      "RAD        2.094193\n",
      "RM         2.913858\n",
      "DIS        2.942511\n",
      "LSTAT      3.885790\n",
      "dtype: float64\n"
     ]
    },
    {
     "data": {
      "image/png": "[encoded data removed]",
      "text/plain": [
       "<Figure size 432x288 with 1 Axes>"
      ]
     },
     "metadata": {
      "needs_background": "light"
     },
     "output_type": "display_data"
    }
   ],
   "source": [
    "#рассмотрим вклад признаков в модель\n",
    "coef1 = model.coef_\n",
    "print(pd.Series(coef1[0], index = feat_nm).agg('abs').sort_values().agg('abs'))\n",
    "plt.barh(feat_nm, coef1.flatten())\n",
    "\n",
    "plt.ylabel(\"Вес признака\")\n",
    "plt.xlabel(\"Признак\")\n",
    "\n",
    "plt.show()"
   ]
  },
  {
   "cell_type": "code",
   "execution_count": 89,
   "metadata": {},
   "outputs": [
    {
     "data": {
      "text/plain": [
       "2"
      ]
     },
     "metadata": {},
     "output_type": "display_data"
    }
   ],
   "source": [
    "#уберем часть признаков и посмотрим на качество обучение. \n",
    "#После будем менять предел филтрации признаков и смотреть, в каком случае ошибка меньше\n",
    "#В результате выясним, что наименьшая ошиька при приедел, убирабщем два наименьших признака(AGE и INDUS)\n",
    "imp_feats = [feat for feat, wght in zip(feat_nm, coef1.flatten()) if np.abs(wght) > 0.8]\n",
    "display(len(feat_nm) -len(imp_feats))"
   ]
  },
  {
   "cell_type": "code",
   "execution_count": 90,
   "metadata": {},
   "outputs": [
    {
     "name": "stdout",
     "output_type": "stream",
     "text": [
      "{'mse': 21.517444231177198, 'mae': 3.1627098714574036, 'r2': 0.669370269149559}\n",
      "{'mse': 21.243390345509408, 'mae': 3.1137872898863717, 'r2': 0.6692308724895277}\n"
     ]
    }
   ],
   "source": [
    "dic_3 = form_model(X_train_sc, y_train, X_test_sc, y_test, imp_feats, model)\n",
    "err_3 = dic_3['err']\n",
    "\n",
    "print(err_2)\n",
    "print(err_3)"
   ]
  },
  {
   "cell_type": "code",
   "execution_count": 91,
   "metadata": {},
   "outputs": [
    {
     "data": {
      "text/plain": [
       "3"
      ]
     },
     "metadata": {},
     "output_type": "display_data"
    }
   ],
   "source": [
    "imp_feats = [feat for feat, wght in zip(feat_nm, coef1.flatten()) if np.abs(wght) > 0.81]\n",
    "display(len(feat_nm) -len(imp_feats))"
   ]
  },
  {
   "cell_type": "code",
   "execution_count": 92,
   "metadata": {},
   "outputs": [
    {
     "name": "stdout",
     "output_type": "stream",
     "text": [
      "{'mse': 21.517444231177198, 'mae': 3.1627098714574036, 'r2': 0.669370269149559}\n",
      "{'mse': 21.243390345509408, 'mae': 3.1137872898863717, 'r2': 0.6692308724895277}\n",
      "{'mse': 22.242133789839116, 'mae': 3.1968689403058326, 'r2': 0.6416997567033819}\n"
     ]
    }
   ],
   "source": [
    "dic_1 = form_model(X_train_sc, y_train, X_test_sc, y_test, imp_feats, model)\n",
    "err_1 = dic_1['err']\n",
    "\n",
    "print(err_2)\n",
    "print(err_3)\n",
    "print(err_1)"
   ]
  },
  {
   "cell_type": "code",
   "execution_count": 93,
   "metadata": {},
   "outputs": [
    {
     "data": {
      "text/plain": [
       "1"
      ]
     },
     "metadata": {},
     "output_type": "display_data"
    }
   ],
   "source": [
    "imp_feats = [feat for feat, wght in zip(feat_nm, coef1.flatten()) if np.abs(wght) > 0.3]\n",
    "display(len(feat_nm) -len(imp_feats))"
   ]
  },
  {
   "cell_type": "code",
   "execution_count": 94,
   "metadata": {},
   "outputs": [
    {
     "name": "stdout",
     "output_type": "stream",
     "text": [
      "{'mse': 21.517444231177198, 'mae': 3.1627098714574036, 'r2': 0.669370269149559}\n",
      "{'mse': 21.243390345509408, 'mae': 3.1137872898863717, 'r2': 0.6692308724895277}\n",
      "{'mse': 21.32060413611495, 'mae': 3.129113375043146, 'r2': 0.6695613724351879}\n"
     ]
    }
   ],
   "source": [
    "dic_1 = form_model(X_train_sc, y_train, X_test_sc, y_test, imp_feats, model)\n",
    "err_1 = dic_1['err']\n",
    "\n",
    "print(err_2)\n",
    "print(err_3)\n",
    "print(err_1)\n",
    "#запишем ошибки в файл, для дальнейших заданий\n",
    "pd.DataFrame([err_3]).to_pickle('errors_line.pkl')"
   ]
  },
  {
   "cell_type": "markdown",
   "metadata": {},
   "source": [
    "Задание 2\n",
    "Создайте модель под названием model с помощью RandomForestRegressor из модуля sklearn.ensemble.\n",
    "Сделайте агрумент n_estimators равным 1000,\n",
    "max_depth должен быть равен 12 и random_state сделайте равным 42.\n",
    "Обучите модель на тренировочных данных аналогично тому, как вы обучали модель LinearRegression,\n",
    "но при этом в метод fit вместо датафрейма y_train поставьте y_train.values[:, 0],\n",
    "чтобы получить из датафрейма одномерный массив Numpy,\n",
    "так как для класса RandomForestRegressor в данном методе для аргумента y предпочтительно применение массивов вместо датафрейма.\n",
    "Сделайте предсказание на тестовых данных и посчитайте R2. Сравните с результатом из предыдущего задания.\n",
    "Напишите в комментариях к коду, какая модель в данном случае работает лучше."
   ]
  }
 ],
 "metadata": {
  "kernelspec": {
   "display_name": "Python 3",
   "language": "python",
   "name": "python3"
  },
  "language_info": {
   "codemirror_mode": {
    "name": "ipython",
    "version": 3
   },
   "file_extension": ".py",
   "mimetype": "text/x-python",
   "name": "python",
   "nbconvert_exporter": "python",
   "pygments_lexer": "ipython3",
   "version": "3.8.5"
  }
 },
 "nbformat": 4,
 "nbformat_minor": 4
}
