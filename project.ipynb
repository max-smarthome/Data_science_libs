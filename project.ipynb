{
 "cells": [
  {
   "cell_type": "markdown",
   "metadata": {},
   "source": [
    "# Проект по предсказанию стоимости жилья"
   ]
  },
  {
   "cell_type": "markdown",
   "metadata": {},
   "source": [
    "### Подгрузим нужные библиотеки  и пропишем функции"
   ]
  },
  {
   "cell_type": "markdown",
   "metadata": {},
   "source": [
    "#### Библиотеки для работы с данными"
   ]
  },
  {
   "cell_type": "code",
   "execution_count": 1,
   "metadata": {},
   "outputs": [
    {
     "data": {
      "text/html": [
       "<style>div.output_scroll { height: 40em; }</style>"
      ],
      "text/plain": [
       "<IPython.core.display.HTML object>"
      ]
     },
     "metadata": {},
     "output_type": "display_data"
    }
   ],
   "source": [
    "import numpy as np\n",
    "import pandas as pd\n",
    "import warnings\n",
    "import matplotlib\n",
    "from matplotlib import pyplot as plt\n",
    "import seaborn as sns\n",
    "import datetime\n",
    "from IPython.core.display import display, HTML\n",
    "\n",
    "display(HTML(\"<style>div.output_scroll { height: 40em; }</style>\"))\n",
    "now = datetime.datetime.now()\n",
    "%matplotlib inline"
   ]
  },
  {
   "cell_type": "markdown",
   "metadata": {},
   "source": [
    "#### Библиотеки sklearn"
   ]
  },
  {
   "cell_type": "code",
   "execution_count": 2,
   "metadata": {},
   "outputs": [],
   "source": [
    "from sklearn.metrics import r2_score as r2\n",
    "from sklearn.metrics import mean_squared_error as mse\n",
    "from sklearn.metrics import accuracy_score as acc_sc\n",
    "from sklearn.model_selection import train_test_split, cross_val_score\n",
    "from sklearn.preprocessing import StandardScaler, RobustScaler\n",
    "from sklearn.model_selection import KFold, GridSearchCV\n",
    "from sklearn.ensemble import GradientBoostingRegressor\n",
    "from sklearn.ensemble import  GradientBoostingRegressor\n",
    "\n",
    "from sklearn.decomposition import PCA\n",
    "from sklearn.manifold import TSNE\n",
    "from sklearn.cluster import KMeans, DBSCAN\n"
   ]
  },
  {
   "cell_type": "code",
   "execution_count": 3,
   "metadata": {},
   "outputs": [],
   "source": [
    "warnings.filterwarnings('ignore')\n",
    "matplotlib.rcParams.update({'font.size': 12})  # размер шрифта на графиках"
   ]
  },
  {
   "cell_type": "markdown",
   "metadata": {},
   "source": [
    "#### Пропишем пути к файлам и загрузим данные"
   ]
  },
  {
   "cell_type": "code",
   "execution_count": 4,
   "metadata": {},
   "outputs": [],
   "source": [
    "DATA_PATH_TRAIN = 'train.csv'\n",
    "DATA_TEST_PATH = 'test.csv'\n",
    "DATA_PREPARED_PATH = '/data_prepared/'\n",
    "SCALE_PATH = './scale/'\n",
    "MODEL_PATH = './models/'"
   ]
  },
  {
   "cell_type": "code",
   "execution_count": 5,
   "metadata": {},
   "outputs": [
    {
     "data": {
      "text/plain": [
       "Id                 int64\n",
       "DistrictId         int64\n",
       "Rooms            float64\n",
       "Square           float64\n",
       "LifeSquare       float64\n",
       "KitchenSquare    float64\n",
       "Floor              int64\n",
       "HouseFloor       float64\n",
       "HouseYear          int64\n",
       "Ecology_1        float64\n",
       "Ecology_2         object\n",
       "Ecology_3         object\n",
       "Social_1           int64\n",
       "Social_2           int64\n",
       "Social_3           int64\n",
       "Healthcare_1     float64\n",
       "Helthcare_2        int64\n",
       "Shops_1            int64\n",
       "Shops_2           object\n",
       "Price            float64\n",
       "dtype: object"
      ]
     },
     "execution_count": 5,
     "metadata": {},
     "output_type": "execute_result"
    }
   ],
   "source": [
    "df_train = pd.read_csv('train.csv', sep = ',')\n",
    "df_train.dtypes"
   ]
  },
  {
   "cell_type": "markdown",
   "metadata": {},
   "source": [
    "#### Пропишем функция для уменьшения памяти и для оценки результатов"
   ]
  },
  {
   "cell_type": "code",
   "execution_count": 6,
   "metadata": {},
   "outputs": [],
   "source": [
    "#Функция для переработки памяти\n",
    "def memmory_reduce(df_input):\n",
    "    df = df_input\n",
    "    mem_before = df.memory_usage().sum()/1024**2\n",
    "    print(f'Mem. before reduce: {mem_before}')\n",
    "    for  i in df.columns:\n",
    "        i_type = df[i].dtype\n",
    "        if str(i_type)[:3] == 'int':\n",
    "            i_min = df[i].min()\n",
    "            i_max = df[i].max()\n",
    "            if i_max < np.iinfo(np.int8).max:\n",
    "                df[i] = df[i].astype(np.int8)\n",
    "            elif i_max > np.iinfo(np.int16).min and i_max < np.iinfo(np.int16).max:\n",
    "                df[i] = df[i].astype(np.int16)\n",
    "            elif i_max > np.iinfo(np.int32).min and i_max < np.iinfo(np.int32).max:\n",
    "                df[i] = df[i].astype(np.int32)\n",
    "            elif i_max > np.iinfo(np.int64).min and i_max < np.iinfo(np.int64).max:\n",
    "                df[i] = df[i].astype(np.int32) \n",
    "        elif str(i_type)[:5] == 'float':\n",
    "            if i_max < np.finfo(np.float32).max:\n",
    "                df[i] = df[i].astype(np.float32)\n",
    "            else:\n",
    "                df[i] = df[i].astype(np.float64)\n",
    "    mem_after = df.memory_usage().sum()/1024**2\n",
    "    print(f'Mem. after reduce: {mem_after}')\n",
    "    return df\n",
    "#df_train = memmory_reduce(df_train)"
   ]
  },
  {
   "cell_type": "markdown",
   "metadata": {},
   "source": [
    "Функция для вычисления и отображения ошибок и фукнция для построения результатов на предсказанных данных и на "
   ]
  },
  {
   "cell_type": "code",
   "execution_count": 7,
   "metadata": {},
   "outputs": [],
   "source": [
    "#Функция для вычисления и отображения ошибок\n",
    "def predict_error(y_pred, y_true, metric = 'r2'):\n",
    "    if metric == 'r2':\n",
    "        print(f'Ошибка R2: {r2(y_true, y_pred)}')\n",
    "    elif metric == 'mse':\n",
    "        print(f'Ошибка MSE: {mse(y_true, y_pred)}')\n",
    "    elif metric == 'acc_sc':\n",
    "        print(f'Ошибка Acc_sc: {acc_sc(y_true, y_pred)}')\n",
    "        \n",
    "#фукнция для построения графиков на тренировочном и тестовом объеме данных       \n",
    "def pred_test_plot(y_pred_tr, y_true_tr, y_pred_tst, y_true_tst):\n",
    "    plt.figure(figsize= (20,10))\n",
    "    \n",
    "    plt.subplot(121)\n",
    "    plt.scatter(y_pred_tr, y_true_tr)\n",
    "    plt.xlabel('Pred. values')\n",
    "    plt.ylabel('True values')\n",
    "    plt.title('Train')\n",
    "    \n",
    "    plt.subplot(122)\n",
    "    plt.scatter(y_pred_tst, y_true_tst)\n",
    "    plt.xlabel('Pred. values')\n",
    "    plt.ylabel('True values')\n",
    "    plt.title('Test')\n",
    "    \n",
    "    plt.show()\n",
    "    \n",
    "\n",
    "def pred_test_plot(y_pred_tr, y_true_tr, y_pred_tst, y_true_tst):\n",
    "    plt.figure(figsize= (20,10))\n",
    "    \n",
    "    plt.subplot(121)\n",
    "    plt.scatter(y_pred_tr, y_true_tr)\n",
    "    plt.xlabel('Pred. values')\n",
    "    plt.ylabel('True values')\n",
    "    plt.title('Train')\n",
    "    \n",
    "    plt.subplot(122)\n",
    "    plt.scatter(y_pred_tst, y_true_tst)\n",
    "    plt.xlabel('Pred. values')\n",
    "    plt.ylabel('True values')\n",
    "    plt.title('Test')\n",
    "    \n",
    "    plt.show()\n"
   ]
  },
  {
   "cell_type": "markdown",
   "metadata": {},
   "source": [
    "### EDA"
   ]
  },
  {
   "cell_type": "markdown",
   "metadata": {},
   "source": [
    "**Целевая переменная**"
   ]
  },
  {
   "cell_type": "code",
   "execution_count": 8,
   "metadata": {
    "scrolled": true
   },
   "outputs": [
    {
     "data": {
      "image/png": "[encoded data removed]",
      "text/plain": [
       "<Figure size 1152x576 with 2 Axes>"
      ]
     },
     "metadata": {
      "needs_background": "light"
     },
     "output_type": "display_data"
    }
   ],
   "source": [
    "plt.figure(figsize = (16, 8))\n",
    "\n",
    "plt.subplot(121)\n",
    "df_train['Price'].hist(bins=100)\n",
    "plt.ylabel('Количество')\n",
    "plt.xlabel('Цена')\n",
    "\n",
    "plt.subplot(122)\n",
    "df_train['Price'].hist(bins=100, density = True)\n",
    "plt.ylabel('Плотность вероятн.')\n",
    "plt.xlabel('Цена')\n",
    "\n",
    "\n",
    "plt.suptitle('Целевая переменная')\n",
    "plt.show()"
   ]
  },
  {
   "cell_type": "markdown",
   "metadata": {},
   "source": [
    "Целевая переменная распредлена достаточно неплохо, не видно явных выбросов, поэтому ее трогать не будем."
   ]
  },
  {
   "cell_type": "markdown",
   "metadata": {},
   "source": [
    "**Количественные переменные**"
   ]
  },
  {
   "cell_type": "code",
   "execution_count": 9,
   "metadata": {
    "scrolled": true
   },
   "outputs": [
    {
     "data": {
      "text/html": [
       "<div>\n",
       "<style scoped>\n",
       "    .dataframe tbody tr th:only-of-type {\n",
       "        vertical-align: middle;\n",
       "    }\n",
       "\n",
       "    .dataframe tbody tr th {\n",
       "        vertical-align: top;\n",
       "    }\n",
       "\n",
       "    .dataframe thead th {\n",
       "        text-align: right;\n",
       "    }\n",
       "</style>\n",
       "<table border=\"1\" class=\"dataframe\">\n",
       "  <thead>\n",
       "    <tr style=\"text-align: right;\">\n",
       "      <th></th>\n",
       "      <th>Id</th>\n",
       "      <th>DistrictId</th>\n",
       "      <th>Rooms</th>\n",
       "      <th>Square</th>\n",
       "      <th>LifeSquare</th>\n",
       "      <th>KitchenSquare</th>\n",
       "      <th>Floor</th>\n",
       "      <th>HouseFloor</th>\n",
       "      <th>HouseYear</th>\n",
       "      <th>Ecology_1</th>\n",
       "      <th>Social_1</th>\n",
       "      <th>Social_2</th>\n",
       "      <th>Social_3</th>\n",
       "      <th>Healthcare_1</th>\n",
       "      <th>Helthcare_2</th>\n",
       "      <th>Shops_1</th>\n",
       "      <th>Price</th>\n",
       "    </tr>\n",
       "  </thead>\n",
       "  <tbody>\n",
       "    <tr>\n",
       "      <th>count</th>\n",
       "      <td>10000.00000</td>\n",
       "      <td>10000.000000</td>\n",
       "      <td>10000.000000</td>\n",
       "      <td>10000.000000</td>\n",
       "      <td>7887.000000</td>\n",
       "      <td>10000.000000</td>\n",
       "      <td>10000.000000</td>\n",
       "      <td>10000.000000</td>\n",
       "      <td>1.000000e+04</td>\n",
       "      <td>10000.000000</td>\n",
       "      <td>10000.000000</td>\n",
       "      <td>10000.000000</td>\n",
       "      <td>10000.000000</td>\n",
       "      <td>5202.000000</td>\n",
       "      <td>10000.000000</td>\n",
       "      <td>10000.000000</td>\n",
       "      <td>10000.000000</td>\n",
       "    </tr>\n",
       "    <tr>\n",
       "      <th>mean</th>\n",
       "      <td>8383.40770</td>\n",
       "      <td>50.400800</td>\n",
       "      <td>1.890500</td>\n",
       "      <td>56.315775</td>\n",
       "      <td>37.199645</td>\n",
       "      <td>6.273300</td>\n",
       "      <td>8.526700</td>\n",
       "      <td>12.609400</td>\n",
       "      <td>3.990166e+03</td>\n",
       "      <td>0.118858</td>\n",
       "      <td>24.687000</td>\n",
       "      <td>5352.157400</td>\n",
       "      <td>8.039200</td>\n",
       "      <td>1142.904460</td>\n",
       "      <td>1.319500</td>\n",
       "      <td>4.231300</td>\n",
       "      <td>214138.857399</td>\n",
       "    </tr>\n",
       "    <tr>\n",
       "      <th>std</th>\n",
       "      <td>4859.01902</td>\n",
       "      <td>43.587592</td>\n",
       "      <td>0.839512</td>\n",
       "      <td>21.058732</td>\n",
       "      <td>86.241209</td>\n",
       "      <td>28.560917</td>\n",
       "      <td>5.241148</td>\n",
       "      <td>6.775974</td>\n",
       "      <td>2.005003e+05</td>\n",
       "      <td>0.119025</td>\n",
       "      <td>17.532614</td>\n",
       "      <td>4006.799803</td>\n",
       "      <td>23.831875</td>\n",
       "      <td>1021.517264</td>\n",
       "      <td>1.493601</td>\n",
       "      <td>4.806341</td>\n",
       "      <td>92872.293865</td>\n",
       "    </tr>\n",
       "    <tr>\n",
       "      <th>min</th>\n",
       "      <td>0.00000</td>\n",
       "      <td>0.000000</td>\n",
       "      <td>0.000000</td>\n",
       "      <td>1.136859</td>\n",
       "      <td>0.370619</td>\n",
       "      <td>0.000000</td>\n",
       "      <td>1.000000</td>\n",
       "      <td>0.000000</td>\n",
       "      <td>1.910000e+03</td>\n",
       "      <td>0.000000</td>\n",
       "      <td>0.000000</td>\n",
       "      <td>168.000000</td>\n",
       "      <td>0.000000</td>\n",
       "      <td>0.000000</td>\n",
       "      <td>0.000000</td>\n",
       "      <td>0.000000</td>\n",
       "      <td>59174.778028</td>\n",
       "    </tr>\n",
       "    <tr>\n",
       "      <th>25%</th>\n",
       "      <td>4169.50000</td>\n",
       "      <td>20.000000</td>\n",
       "      <td>1.000000</td>\n",
       "      <td>41.774881</td>\n",
       "      <td>22.769832</td>\n",
       "      <td>1.000000</td>\n",
       "      <td>4.000000</td>\n",
       "      <td>9.000000</td>\n",
       "      <td>1.974000e+03</td>\n",
       "      <td>0.017647</td>\n",
       "      <td>6.000000</td>\n",
       "      <td>1564.000000</td>\n",
       "      <td>0.000000</td>\n",
       "      <td>350.000000</td>\n",
       "      <td>0.000000</td>\n",
       "      <td>1.000000</td>\n",
       "      <td>153872.633942</td>\n",
       "    </tr>\n",
       "    <tr>\n",
       "      <th>50%</th>\n",
       "      <td>8394.50000</td>\n",
       "      <td>36.000000</td>\n",
       "      <td>2.000000</td>\n",
       "      <td>52.513310</td>\n",
       "      <td>32.781260</td>\n",
       "      <td>6.000000</td>\n",
       "      <td>7.000000</td>\n",
       "      <td>13.000000</td>\n",
       "      <td>1.977000e+03</td>\n",
       "      <td>0.075424</td>\n",
       "      <td>25.000000</td>\n",
       "      <td>5285.000000</td>\n",
       "      <td>2.000000</td>\n",
       "      <td>900.000000</td>\n",
       "      <td>1.000000</td>\n",
       "      <td>3.000000</td>\n",
       "      <td>192269.644879</td>\n",
       "    </tr>\n",
       "    <tr>\n",
       "      <th>75%</th>\n",
       "      <td>12592.50000</td>\n",
       "      <td>75.000000</td>\n",
       "      <td>2.000000</td>\n",
       "      <td>65.900625</td>\n",
       "      <td>45.128803</td>\n",
       "      <td>9.000000</td>\n",
       "      <td>12.000000</td>\n",
       "      <td>17.000000</td>\n",
       "      <td>2.001000e+03</td>\n",
       "      <td>0.195781</td>\n",
       "      <td>36.000000</td>\n",
       "      <td>7227.000000</td>\n",
       "      <td>5.000000</td>\n",
       "      <td>1548.000000</td>\n",
       "      <td>2.000000</td>\n",
       "      <td>6.000000</td>\n",
       "      <td>249135.462171</td>\n",
       "    </tr>\n",
       "    <tr>\n",
       "      <th>max</th>\n",
       "      <td>16798.00000</td>\n",
       "      <td>209.000000</td>\n",
       "      <td>19.000000</td>\n",
       "      <td>641.065193</td>\n",
       "      <td>7480.592129</td>\n",
       "      <td>2014.000000</td>\n",
       "      <td>42.000000</td>\n",
       "      <td>117.000000</td>\n",
       "      <td>2.005201e+07</td>\n",
       "      <td>0.521867</td>\n",
       "      <td>74.000000</td>\n",
       "      <td>19083.000000</td>\n",
       "      <td>141.000000</td>\n",
       "      <td>4849.000000</td>\n",
       "      <td>6.000000</td>\n",
       "      <td>23.000000</td>\n",
       "      <td>633233.466570</td>\n",
       "    </tr>\n",
       "  </tbody>\n",
       "</table>\n",
       "</div>"
      ],
      "text/plain": [
       "                Id    DistrictId         Rooms        Square   LifeSquare  \\\n",
       "count  10000.00000  10000.000000  10000.000000  10000.000000  7887.000000   \n",
       "mean    8383.40770     50.400800      1.890500     56.315775    37.199645   \n",
       "std     4859.01902     43.587592      0.839512     21.058732    86.241209   \n",
       "min        0.00000      0.000000      0.000000      1.136859     0.370619   \n",
       "25%     4169.50000     20.000000      1.000000     41.774881    22.769832   \n",
       "50%     8394.50000     36.000000      2.000000     52.513310    32.781260   \n",
       "75%    12592.50000     75.000000      2.000000     65.900625    45.128803   \n",
       "max    16798.00000    209.000000     19.000000    641.065193  7480.592129   \n",
       "\n",
       "       KitchenSquare         Floor    HouseFloor     HouseYear     Ecology_1  \\\n",
       "count   10000.000000  10000.000000  10000.000000  1.000000e+04  10000.000000   \n",
       "mean        6.273300      8.526700     12.609400  3.990166e+03      0.118858   \n",
       "std        28.560917      5.241148      6.775974  2.005003e+05      0.119025   \n",
       "min         0.000000      1.000000      0.000000  1.910000e+03      0.000000   \n",
       "25%         1.000000      4.000000      9.000000  1.974000e+03      0.017647   \n",
       "50%         6.000000      7.000000     13.000000  1.977000e+03      0.075424   \n",
       "75%         9.000000     12.000000     17.000000  2.001000e+03      0.195781   \n",
       "max      2014.000000     42.000000    117.000000  2.005201e+07      0.521867   \n",
       "\n",
       "           Social_1      Social_2      Social_3  Healthcare_1   Helthcare_2  \\\n",
       "count  10000.000000  10000.000000  10000.000000   5202.000000  10000.000000   \n",
       "mean      24.687000   5352.157400      8.039200   1142.904460      1.319500   \n",
       "std       17.532614   4006.799803     23.831875   1021.517264      1.493601   \n",
       "min        0.000000    168.000000      0.000000      0.000000      0.000000   \n",
       "25%        6.000000   1564.000000      0.000000    350.000000      0.000000   \n",
       "50%       25.000000   5285.000000      2.000000    900.000000      1.000000   \n",
       "75%       36.000000   7227.000000      5.000000   1548.000000      2.000000   \n",
       "max       74.000000  19083.000000    141.000000   4849.000000      6.000000   \n",
       "\n",
       "            Shops_1          Price  \n",
       "count  10000.000000   10000.000000  \n",
       "mean       4.231300  214138.857399  \n",
       "std        4.806341   92872.293865  \n",
       "min        0.000000   59174.778028  \n",
       "25%        1.000000  153872.633942  \n",
       "50%        3.000000  192269.644879  \n",
       "75%        6.000000  249135.462171  \n",
       "max       23.000000  633233.466570  "
      ]
     },
     "execution_count": 9,
     "metadata": {},
     "output_type": "execute_result"
    }
   ],
   "source": [
    "df_train.describe()"
   ]
  },
  {
   "cell_type": "markdown",
   "metadata": {},
   "source": [
    "**Категориальные переменные**"
   ]
  },
  {
   "cell_type": "markdown",
   "metadata": {},
   "source": [
    "DistrictId - так же категориальная переменная, переведем её в строку\n",
    "\n",
    "Рассмотрим все категориальные переменные"
   ]
  },
  {
   "cell_type": "code",
   "execution_count": 10,
   "metadata": {
    "scrolled": true
   },
   "outputs": [
    {
     "data": {
      "text/plain": [
       "['DistrictId', 'Ecology_2', 'Ecology_3', 'Shops_2']"
      ]
     },
     "execution_count": 10,
     "metadata": {},
     "output_type": "execute_result"
    }
   ],
   "source": [
    "df_train.DistrictId = df_train.DistrictId.astype('str')\n",
    "df_train.select_dtypes(include='object').columns.tolist()"
   ]
  },
  {
   "cell_type": "code",
   "execution_count": 11,
   "metadata": {},
   "outputs": [
    {
     "data": {
      "text/plain": [
       "27     851\n",
       "1      652\n",
       "23     565\n",
       "6      511\n",
       "9      294\n",
       "      ... \n",
       "207      1\n",
       "196      1\n",
       "199      1\n",
       "209      1\n",
       "205      1\n",
       "Name: DistrictId, Length: 205, dtype: int64"
      ]
     },
     "execution_count": 11,
     "metadata": {},
     "output_type": "execute_result"
    }
   ],
   "source": [
    "df_train.DistrictId.value_counts()"
   ]
  },
  {
   "cell_type": "code",
   "execution_count": 12,
   "metadata": {},
   "outputs": [
    {
     "data": {
      "text/plain": [
       "B    9903\n",
       "A      97\n",
       "Name: Ecology_2, dtype: int64"
      ]
     },
     "execution_count": 12,
     "metadata": {},
     "output_type": "execute_result"
    }
   ],
   "source": [
    "df_train.Ecology_2.value_counts()"
   ]
  },
  {
   "cell_type": "code",
   "execution_count": 13,
   "metadata": {},
   "outputs": [
    {
     "data": {
      "text/plain": [
       "B    9725\n",
       "A     275\n",
       "Name: Ecology_3, dtype: int64"
      ]
     },
     "execution_count": 13,
     "metadata": {},
     "output_type": "execute_result"
    }
   ],
   "source": [
    "df_train.Ecology_3.value_counts()"
   ]
  },
  {
   "cell_type": "code",
   "execution_count": 14,
   "metadata": {},
   "outputs": [
    {
     "data": {
      "text/plain": [
       "B    9175\n",
       "A     825\n",
       "Name: Shops_2, dtype: int64"
      ]
     },
     "execution_count": 14,
     "metadata": {},
     "output_type": "execute_result"
    }
   ],
   "source": [
    "df_train.Shops_2.value_counts()"
   ]
  },
  {
   "cell_type": "markdown",
   "metadata": {},
   "source": [
    "### Обработка данных"
   ]
  },
  {
   "cell_type": "markdown",
   "metadata": {},
   "source": [
    "#### Обработка выбросов"
   ]
  },
  {
   "cell_type": "markdown",
   "metadata": {},
   "source": [
    "***Rooms***`"
   ]
  },
  {
   "cell_type": "code",
   "execution_count": 15,
   "metadata": {},
   "outputs": [
    {
     "data": {
      "text/plain": [
       "2.0     3880\n",
       "1.0     3705\n",
       "3.0     2235\n",
       "4.0      150\n",
       "5.0       18\n",
       "0.0        8\n",
       "10.0       2\n",
       "19.0       1\n",
       "6.0        1\n",
       "Name: Rooms, dtype: int64"
      ]
     },
     "execution_count": 15,
     "metadata": {},
     "output_type": "execute_result"
    }
   ],
   "source": [
    "df_train.Rooms.value_counts()"
   ]
  },
  {
   "cell_type": "code",
   "execution_count": 16,
   "metadata": {},
   "outputs": [
    {
     "data": {
      "image/png": "[encoded data removed]",
      "text/plain": [
       "<Figure size 1152x576 with 2 Axes>"
      ]
     },
     "metadata": {
      "needs_background": "light"
     },
     "output_type": "display_data"
    }
   ],
   "source": [
    "plt.figure(figsize=(16,8))\n",
    "\n",
    "plt.subplot(121)\n",
    "plt.scatter(df_train.Rooms[(df_train.Rooms > 4) | (df_train.Rooms < 2)],df_train.Price[(df_train.Rooms > 4) | (df_train.Rooms < 2)])\n",
    "plt.xlabel('Rooms')\n",
    "plt.ylabel('Price')\n",
    "plt.title('5 < Rooms and Rooms < 2')\n",
    "\n",
    "plt.subplot(122)\n",
    "plt.scatter(df_train.Rooms,df_train.Price)\n",
    "plt.xlabel('Rooms')\n",
    "plt.ylabel('Price')\n",
    "plt.title('All Rooms')\n",
    "\n",
    "plt.show()"
   ]
  },
  {
   "cell_type": "markdown",
   "metadata": {},
   "source": [
    "есть выбросы больше 5 и меньше 1. Больше 10 - делится на два сегмента, те, что слишком большие, такие как 19 - это явная ошибка, и те что меньше 10. Из графика количства комнат/ цена, можно сделать вывод, что от 6 до 7 комнат(такие квартиры могут попадаться) можно заменить на 5. Для выбросов меньше 1 - заменим всё на 1"
   ]
  },
  {
   "cell_type": "code",
   "execution_count": 17,
   "metadata": {},
   "outputs": [
    {
     "data": {
      "text/plain": [
       "2.0    3883\n",
       "1.0    3713\n",
       "3.0    2235\n",
       "4.0     150\n",
       "5.0      19\n",
       "Name: Rooms, dtype: int64"
      ]
     },
     "execution_count": 17,
     "metadata": {},
     "output_type": "execute_result"
    }
   ],
   "source": [
    "df_train['Rooms_outlier'] = 0\n",
    "med_Rooms = df_train['Rooms'].median()\n",
    "df_train.loc[(df_train['Rooms'] < 1) | (df_train['Rooms'] > 5), 'Rooms_outlier'] = 1\n",
    "df_train.loc[(df_train['Rooms'] > 5) & (df_train['Rooms'] < 8), 'Rooms'] = 5\n",
    "df_train.loc[(df_train['Rooms'] > 8), 'Rooms'] = med_Rooms\n",
    "df_train.loc[(df_train['Rooms'] < 1), 'Rooms'] = 1\n",
    "df_train.Rooms.value_counts()"
   ]
  },
  {
   "cell_type": "markdown",
   "metadata": {},
   "source": [
    "***Square***"
   ]
  },
  {
   "cell_type": "code",
   "execution_count": 18,
   "metadata": {},
   "outputs": [
    {
     "data": {
      "text/plain": [
       "<matplotlib.collections.PathCollection at 0x164c25c0b20>"
      ]
     },
     "execution_count": 18,
     "metadata": {},
     "output_type": "execute_result"
    },
    {
     "data": {
      "image/png": "[encoded data removed]",
      "text/plain": [
       "<Figure size 432x288 with 1 Axes>"
      ]
     },
     "metadata": {
      "needs_background": "light"
     },
     "output_type": "display_data"
    }
   ],
   "source": [
    "plt.scatter(df_train.Square, df_train.Price)"
   ]
  },
  {
   "cell_type": "code",
   "execution_count": 19,
   "metadata": {},
   "outputs": [
    {
     "data": {
      "text/plain": [
       "(132.82090134811978, 27.24540933053085)"
      ]
     },
     "execution_count": 19,
     "metadata": {},
     "output_type": "execute_result"
    }
   ],
   "source": [
    "df_train.Square.quantile(0.995) , df_train.Square.quantile(0.005)"
   ]
  },
  {
   "cell_type": "markdown",
   "metadata": {},
   "source": [
    "Переда подсчетом выбросов посчитаем параметры для дальнейшего подсчета LifeSquare и подсчета KitchenSquare"
   ]
  },
  {
   "cell_type": "code",
   "execution_count": 20,
   "metadata": {},
   "outputs": [
    {
     "data": {
      "text/plain": [
       "3.0    46.960480\n",
       "1.0    21.663951\n",
       "2.0    32.552744\n",
       "4.0    64.946548\n",
       "5.0    79.795451\n",
       "dtype: float64"
      ]
     },
     "execution_count": 20,
     "metadata": {},
     "output_type": "execute_result"
    }
   ],
   "source": [
    "#Расчет параметров для заполнений пустых значений LifeSquare\n",
    "lst_med = []\n",
    "lst_ind = []\n",
    "Square_Life_med = (df_train.Square - df_train.LifeSquare).median()\n",
    "for i in df_train.Rooms.unique():\n",
    "    lst_ind.append(i)\n",
    "    lst_med.append(df_train[df_train.Rooms == i].LifeSquare.median())\n",
    "Life_Square_med = pd.Series(data = lst_med, index = lst_ind)\n",
    "Life_Square_med"
   ]
  },
  {
   "cell_type": "markdown",
   "metadata": {},
   "source": [
    "Логично предположить, что при большей плозади - цена будет больше, однако, при очень больших площадях, есть данные с маленькой ценой. Очевидно, что это выбросы. Данные больше персентиля 0,995 будем заменять на медианное значение.\n",
    "Так же меньше персентиля 0.005 будем обрезать персентилем 0.005"
   ]
  },
  {
   "cell_type": "code",
   "execution_count": 21,
   "metadata": {},
   "outputs": [
    {
     "data": {
      "text/plain": [
       "count    10000.000000\n",
       "mean        55.589276\n",
       "std         17.750257\n",
       "min         27.245409\n",
       "25%         41.639670\n",
       "50%         52.235120\n",
       "75%         65.687443\n",
       "max        132.820646\n",
       "Name: Square, dtype: float64"
      ]
     },
     "execution_count": 21,
     "metadata": {},
     "output_type": "execute_result"
    }
   ],
   "source": [
    "df_train['Square_outlier'] = 0\n",
    "med_Square = df_train['Square'].median()\n",
    "Square_min = df_train.Square.quantile(0.005)\n",
    "Square_max = df_train.Square.quantile(0.995)\n",
    "df_train.loc[(df_train['Square'] < Square_min) | (df_train['Square'] > Square_max ), 'Square_outlier'] = 1\n",
    "df_train.loc[(df_train['Square'] > Square_max) , 'Square'] = med_Rooms\n",
    "df_train.loc[(df_train['Square'] < Square_min) , 'Square'] = Square_min\n",
    "df_train.Square.describe()"
   ]
  },
  {
   "cell_type": "markdown",
   "metadata": {},
   "source": [
    "***KitchenSquare***"
   ]
  },
  {
   "cell_type": "code",
   "execution_count": 22,
   "metadata": {},
   "outputs": [
    {
     "data": {
      "text/plain": [
       "1.0       2460\n",
       "8.0       1306\n",
       "5.0       1169\n",
       "10.0      1075\n",
       "6.0       1038\n",
       "9.0        843\n",
       "0.0        697\n",
       "7.0        609\n",
       "12.0       249\n",
       "11.0       233\n",
       "13.0        67\n",
       "14.0        51\n",
       "4.0         39\n",
       "15.0        31\n",
       "3.0         22\n",
       "16.0        16\n",
       "20.0        14\n",
       "17.0        12\n",
       "19.0        11\n",
       "18.0         6\n",
       "2.0          4\n",
       "22.0         3\n",
       "43.0         2\n",
       "112.0        2\n",
       "41.0         2\n",
       "32.0         2\n",
       "58.0         2\n",
       "25.0         2\n",
       "37.0         2\n",
       "30.0         2\n",
       "51.0         2\n",
       "40.0         1\n",
       "96.0         1\n",
       "48.0         1\n",
       "72.0         1\n",
       "73.0         1\n",
       "2014.0       1\n",
       "66.0         1\n",
       "36.0         1\n",
       "78.0         1\n",
       "54.0         1\n",
       "29.0         1\n",
       "31.0         1\n",
       "35.0         1\n",
       "62.0         1\n",
       "39.0         1\n",
       "1970.0       1\n",
       "60.0         1\n",
       "75.0         1\n",
       "26.0         1\n",
       "21.0         1\n",
       "84.0         1\n",
       "63.0         1\n",
       "123.0        1\n",
       "53.0         1\n",
       "42.0         1\n",
       "23.0         1\n",
       "27.0         1\n",
       "Name: KitchenSquare, dtype: int64"
      ]
     },
     "execution_count": 22,
     "metadata": {},
     "output_type": "execute_result"
    }
   ],
   "source": [
    "df_train['KitchenSquare'].value_counts()"
   ]
  },
  {
   "cell_type": "markdown",
   "metadata": {},
   "source": [
    "Видно, что есть кухни, где площадь <= 2, это видимо студии. Больше всего данных = 1.\n",
    "Не будем избавляться от этого класса данных, а, наоборот, все данные = 2 и 0, приравняем к 1.\n",
    "При этом данные больше персентиля 0.99 приравняем к персентилю 0.99."
   ]
  },
  {
   "cell_type": "code",
   "execution_count": 23,
   "metadata": {},
   "outputs": [],
   "source": [
    "df_train['KitchenSquare_outlier'] = 0\n",
    "KitchenSquare_max = df_train.KitchenSquare.quantile(0.99)\n",
    "df_train.loc[(df_train.KitchenSquare > df_train.KitchenSquare.quantile(0.99)) | (df_train.KitchenSquare <= 2), \\\n",
    "            'KitchenSquare_outlier'] = 1\n",
    "df_train.loc[(df_train.KitchenSquare > KitchenSquare_max), 'KitchenSquare'] = KitchenSquare_max\n",
    "df_train.loc[(df_train.KitchenSquare <= 2), 'KitchenSquare'] = 1"
   ]
  },
  {
   "cell_type": "markdown",
   "metadata": {},
   "source": [
    "***LifeSquare***"
   ]
  },
  {
   "cell_type": "code",
   "execution_count": 24,
   "metadata": {},
   "outputs": [
    {
     "data": {
      "image/png": "[encoded data removed]",
      "text/plain": [
       "<Figure size 432x288 with 1 Axes>"
      ]
     },
     "metadata": {
      "needs_background": "light"
     },
     "output_type": "display_data"
    }
   ],
   "source": [
    "plt.scatter(df_train.LifeSquare, df_train.Price)\n",
    "\n",
    "plt.show()"
   ]
  },
  {
   "cell_type": "markdown",
   "metadata": {},
   "source": [
    "Cделаем дополнительную колонку LifeSquаre2, для двух вариантов работы с выбросами и заполнения пропусков. В первом случае мы будем менять выбросы и заполнять пропуски разницой Square и медианным значением разницы Square - LifeSqure, посчитанным ранее, во втором средним значеним LifeSquare, относительно количества комнат. "
   ]
  },
  {
   "cell_type": "code",
   "execution_count": 25,
   "metadata": {},
   "outputs": [],
   "source": [
    "df_train['LifeSquare_outlier'] = 0\n",
    "df_train['LifeSquare2'] = df_train['LifeSquare']\n",
    "df_train.loc[(df_train.LifeSquare > df_train.LifeSquare.quantile(0.995)) | (df_train.LifeSquare < df_train.LifeSquare.quantile(0.005)), 'LifeSquare_outlier'] = 1\n",
    "df_train.LifeSquare[df_train.LifeSquare_outlier == 1] = df_train.Square[df_train.LifeSquare_outlier == 1] - Square_Life_med\n",
    "for i in Life_Square_med.index:\n",
    "    df_train.LifeSquare2[(df_train.LifeSquare_outlier == 1) & (df_train.Rooms == i)] = Life_Square_med[i]"
   ]
  },
  {
   "cell_type": "code",
   "execution_count": 26,
   "metadata": {},
   "outputs": [
    {
     "data": {
      "image/png": "[encoded data removed]",
      "text/plain": [
       "<Figure size 432x288 with 1 Axes>"
      ]
     },
     "metadata": {
      "needs_background": "light"
     },
     "output_type": "display_data"
    }
   ],
   "source": [
    "plt.scatter(df_train.LifeSquare, df_train.Price)\n",
    "\n",
    "plt.show()"
   ]
  },
  {
   "cell_type": "markdown",
   "metadata": {},
   "source": [
    "***Floor, HouseFloor***"
   ]
  },
  {
   "cell_type": "code",
   "execution_count": 27,
   "metadata": {},
   "outputs": [
    {
     "data": {
      "text/plain": [
       "4987    42\n",
       "7599    37\n",
       "2383    33\n",
       "7984    32\n",
       "1360    32\n",
       "        ..\n",
       "3195     1\n",
       "7845     1\n",
       "9392     1\n",
       "9869     1\n",
       "4982     1\n",
       "Name: Floor, Length: 10000, dtype: int64"
      ]
     },
     "execution_count": 27,
     "metadata": {},
     "output_type": "execute_result"
    }
   ],
   "source": [
    "df_train.Floor.sort_values(ascending = False)"
   ]
  },
  {
   "cell_type": "code",
   "execution_count": 28,
   "metadata": {},
   "outputs": [
    {
     "data": {
      "text/plain": [
       "1678    117.0\n",
       "4657     99.0\n",
       "746      99.0\n",
       "4987     48.0\n",
       "5031     48.0\n",
       "        ...  \n",
       "6860      0.0\n",
       "6870      0.0\n",
       "5104      0.0\n",
       "1928      0.0\n",
       "2768      0.0\n",
       "Name: HouseFloor, Length: 10000, dtype: float64"
      ]
     },
     "execution_count": 28,
     "metadata": {},
     "output_type": "execute_result"
    }
   ],
   "source": [
    "df_train.HouseFloor.sort_values(ascending = False)"
   ]
  },
  {
   "cell_type": "code",
   "execution_count": 29,
   "metadata": {},
   "outputs": [
    {
     "data": {
      "text/plain": [
       "0.0    269\n",
       "Name: HouseFloor, dtype: int64"
      ]
     },
     "execution_count": 29,
     "metadata": {},
     "output_type": "execute_result"
    }
   ],
   "source": [
    "df_train.HouseFloor[(df_train.HouseFloor < 1)].value_counts()"
   ]
  },
  {
   "cell_type": "code",
   "execution_count": 30,
   "metadata": {},
   "outputs": [
    {
     "data": {
      "text/html": [
       "<div>\n",
       "<style scoped>\n",
       "    .dataframe tbody tr th:only-of-type {\n",
       "        vertical-align: middle;\n",
       "    }\n",
       "\n",
       "    .dataframe tbody tr th {\n",
       "        vertical-align: top;\n",
       "    }\n",
       "\n",
       "    .dataframe thead th {\n",
       "        text-align: right;\n",
       "    }\n",
       "</style>\n",
       "<table border=\"1\" class=\"dataframe\">\n",
       "  <thead>\n",
       "    <tr style=\"text-align: right;\">\n",
       "      <th></th>\n",
       "      <th>Id</th>\n",
       "      <th>DistrictId</th>\n",
       "      <th>Rooms</th>\n",
       "      <th>Square</th>\n",
       "      <th>LifeSquare</th>\n",
       "      <th>KitchenSquare</th>\n",
       "      <th>Floor</th>\n",
       "      <th>HouseFloor</th>\n",
       "      <th>HouseYear</th>\n",
       "      <th>Ecology_1</th>\n",
       "      <th>...</th>\n",
       "      <th>Healthcare_1</th>\n",
       "      <th>Helthcare_2</th>\n",
       "      <th>Shops_1</th>\n",
       "      <th>Shops_2</th>\n",
       "      <th>Price</th>\n",
       "      <th>Rooms_outlier</th>\n",
       "      <th>Square_outlier</th>\n",
       "      <th>KitchenSquare_outlier</th>\n",
       "      <th>LifeSquare_outlier</th>\n",
       "      <th>LifeSquare2</th>\n",
       "    </tr>\n",
       "  </thead>\n",
       "  <tbody>\n",
       "    <tr>\n",
       "      <th>24</th>\n",
       "      <td>4717</td>\n",
       "      <td>27</td>\n",
       "      <td>1.0</td>\n",
       "      <td>44.203947</td>\n",
       "      <td>NaN</td>\n",
       "      <td>1.0</td>\n",
       "      <td>2</td>\n",
       "      <td>0.0</td>\n",
       "      <td>1977</td>\n",
       "      <td>0.072158</td>\n",
       "      <td>...</td>\n",
       "      <td>NaN</td>\n",
       "      <td>0</td>\n",
       "      <td>0</td>\n",
       "      <td>A</td>\n",
       "      <td>135466.559958</td>\n",
       "      <td>0</td>\n",
       "      <td>0</td>\n",
       "      <td>1</td>\n",
       "      <td>0</td>\n",
       "      <td>NaN</td>\n",
       "    </tr>\n",
       "    <tr>\n",
       "      <th>152</th>\n",
       "      <td>12947</td>\n",
       "      <td>53</td>\n",
       "      <td>2.0</td>\n",
       "      <td>56.023342</td>\n",
       "      <td>NaN</td>\n",
       "      <td>1.0</td>\n",
       "      <td>14</td>\n",
       "      <td>0.0</td>\n",
       "      <td>1977</td>\n",
       "      <td>0.049637</td>\n",
       "      <td>...</td>\n",
       "      <td>229.0</td>\n",
       "      <td>1</td>\n",
       "      <td>3</td>\n",
       "      <td>B</td>\n",
       "      <td>247074.564832</td>\n",
       "      <td>0</td>\n",
       "      <td>0</td>\n",
       "      <td>1</td>\n",
       "      <td>0</td>\n",
       "      <td>NaN</td>\n",
       "    </tr>\n",
       "    <tr>\n",
       "      <th>159</th>\n",
       "      <td>13146</td>\n",
       "      <td>74</td>\n",
       "      <td>1.0</td>\n",
       "      <td>46.449711</td>\n",
       "      <td>NaN</td>\n",
       "      <td>1.0</td>\n",
       "      <td>6</td>\n",
       "      <td>0.0</td>\n",
       "      <td>1977</td>\n",
       "      <td>0.075779</td>\n",
       "      <td>...</td>\n",
       "      <td>NaN</td>\n",
       "      <td>0</td>\n",
       "      <td>2</td>\n",
       "      <td>B</td>\n",
       "      <td>168705.450148</td>\n",
       "      <td>0</td>\n",
       "      <td>0</td>\n",
       "      <td>1</td>\n",
       "      <td>0</td>\n",
       "      <td>NaN</td>\n",
       "    </tr>\n",
       "    <tr>\n",
       "      <th>186</th>\n",
       "      <td>12174</td>\n",
       "      <td>62</td>\n",
       "      <td>1.0</td>\n",
       "      <td>44.954880</td>\n",
       "      <td>NaN</td>\n",
       "      <td>1.0</td>\n",
       "      <td>8</td>\n",
       "      <td>0.0</td>\n",
       "      <td>1977</td>\n",
       "      <td>0.072158</td>\n",
       "      <td>...</td>\n",
       "      <td>NaN</td>\n",
       "      <td>0</td>\n",
       "      <td>0</td>\n",
       "      <td>A</td>\n",
       "      <td>133773.301722</td>\n",
       "      <td>0</td>\n",
       "      <td>0</td>\n",
       "      <td>1</td>\n",
       "      <td>0</td>\n",
       "      <td>NaN</td>\n",
       "    </tr>\n",
       "    <tr>\n",
       "      <th>229</th>\n",
       "      <td>15661</td>\n",
       "      <td>45</td>\n",
       "      <td>3.0</td>\n",
       "      <td>81.094922</td>\n",
       "      <td>NaN</td>\n",
       "      <td>1.0</td>\n",
       "      <td>15</td>\n",
       "      <td>0.0</td>\n",
       "      <td>1977</td>\n",
       "      <td>0.195781</td>\n",
       "      <td>...</td>\n",
       "      <td>NaN</td>\n",
       "      <td>3</td>\n",
       "      <td>2</td>\n",
       "      <td>B</td>\n",
       "      <td>442472.456032</td>\n",
       "      <td>0</td>\n",
       "      <td>0</td>\n",
       "      <td>1</td>\n",
       "      <td>0</td>\n",
       "      <td>NaN</td>\n",
       "    </tr>\n",
       "    <tr>\n",
       "      <th>...</th>\n",
       "      <td>...</td>\n",
       "      <td>...</td>\n",
       "      <td>...</td>\n",
       "      <td>...</td>\n",
       "      <td>...</td>\n",
       "      <td>...</td>\n",
       "      <td>...</td>\n",
       "      <td>...</td>\n",
       "      <td>...</td>\n",
       "      <td>...</td>\n",
       "      <td>...</td>\n",
       "      <td>...</td>\n",
       "      <td>...</td>\n",
       "      <td>...</td>\n",
       "      <td>...</td>\n",
       "      <td>...</td>\n",
       "      <td>...</td>\n",
       "      <td>...</td>\n",
       "      <td>...</td>\n",
       "      <td>...</td>\n",
       "      <td>...</td>\n",
       "    </tr>\n",
       "    <tr>\n",
       "      <th>9889</th>\n",
       "      <td>629</td>\n",
       "      <td>27</td>\n",
       "      <td>1.0</td>\n",
       "      <td>42.936724</td>\n",
       "      <td>NaN</td>\n",
       "      <td>1.0</td>\n",
       "      <td>2</td>\n",
       "      <td>0.0</td>\n",
       "      <td>1977</td>\n",
       "      <td>0.011654</td>\n",
       "      <td>...</td>\n",
       "      <td>NaN</td>\n",
       "      <td>0</td>\n",
       "      <td>0</td>\n",
       "      <td>B</td>\n",
       "      <td>129674.841139</td>\n",
       "      <td>0</td>\n",
       "      <td>0</td>\n",
       "      <td>1</td>\n",
       "      <td>0</td>\n",
       "      <td>NaN</td>\n",
       "    </tr>\n",
       "    <tr>\n",
       "      <th>9931</th>\n",
       "      <td>15686</td>\n",
       "      <td>1</td>\n",
       "      <td>1.0</td>\n",
       "      <td>47.402412</td>\n",
       "      <td>NaN</td>\n",
       "      <td>1.0</td>\n",
       "      <td>14</td>\n",
       "      <td>0.0</td>\n",
       "      <td>1977</td>\n",
       "      <td>0.007122</td>\n",
       "      <td>...</td>\n",
       "      <td>NaN</td>\n",
       "      <td>0</td>\n",
       "      <td>1</td>\n",
       "      <td>B</td>\n",
       "      <td>174740.301224</td>\n",
       "      <td>0</td>\n",
       "      <td>0</td>\n",
       "      <td>1</td>\n",
       "      <td>0</td>\n",
       "      <td>NaN</td>\n",
       "    </tr>\n",
       "    <tr>\n",
       "      <th>9940</th>\n",
       "      <td>4711</td>\n",
       "      <td>6</td>\n",
       "      <td>1.0</td>\n",
       "      <td>41.224118</td>\n",
       "      <td>NaN</td>\n",
       "      <td>1.0</td>\n",
       "      <td>8</td>\n",
       "      <td>0.0</td>\n",
       "      <td>1977</td>\n",
       "      <td>0.243205</td>\n",
       "      <td>...</td>\n",
       "      <td>540.0</td>\n",
       "      <td>0</td>\n",
       "      <td>0</td>\n",
       "      <td>B</td>\n",
       "      <td>125612.639104</td>\n",
       "      <td>0</td>\n",
       "      <td>0</td>\n",
       "      <td>1</td>\n",
       "      <td>0</td>\n",
       "      <td>NaN</td>\n",
       "    </tr>\n",
       "    <tr>\n",
       "      <th>9950</th>\n",
       "      <td>5383</td>\n",
       "      <td>48</td>\n",
       "      <td>3.0</td>\n",
       "      <td>98.994909</td>\n",
       "      <td>NaN</td>\n",
       "      <td>1.0</td>\n",
       "      <td>3</td>\n",
       "      <td>0.0</td>\n",
       "      <td>1977</td>\n",
       "      <td>0.041125</td>\n",
       "      <td>...</td>\n",
       "      <td>NaN</td>\n",
       "      <td>1</td>\n",
       "      <td>10</td>\n",
       "      <td>B</td>\n",
       "      <td>418817.004446</td>\n",
       "      <td>0</td>\n",
       "      <td>0</td>\n",
       "      <td>1</td>\n",
       "      <td>0</td>\n",
       "      <td>NaN</td>\n",
       "    </tr>\n",
       "    <tr>\n",
       "      <th>9996</th>\n",
       "      <td>16265</td>\n",
       "      <td>27</td>\n",
       "      <td>2.0</td>\n",
       "      <td>64.307684</td>\n",
       "      <td>37.03842</td>\n",
       "      <td>9.0</td>\n",
       "      <td>13</td>\n",
       "      <td>0.0</td>\n",
       "      <td>1977</td>\n",
       "      <td>0.072158</td>\n",
       "      <td>...</td>\n",
       "      <td>NaN</td>\n",
       "      <td>0</td>\n",
       "      <td>0</td>\n",
       "      <td>A</td>\n",
       "      <td>199715.148807</td>\n",
       "      <td>0</td>\n",
       "      <td>0</td>\n",
       "      <td>0</td>\n",
       "      <td>0</td>\n",
       "      <td>37.03842</td>\n",
       "    </tr>\n",
       "  </tbody>\n",
       "</table>\n",
       "<p>269 rows × 25 columns</p>\n",
       "</div>"
      ],
      "text/plain": [
       "         Id DistrictId  Rooms     Square  LifeSquare  KitchenSquare  Floor  \\\n",
       "24     4717         27    1.0  44.203947         NaN            1.0      2   \n",
       "152   12947         53    2.0  56.023342         NaN            1.0     14   \n",
       "159   13146         74    1.0  46.449711         NaN            1.0      6   \n",
       "186   12174         62    1.0  44.954880         NaN            1.0      8   \n",
       "229   15661         45    3.0  81.094922         NaN            1.0     15   \n",
       "...     ...        ...    ...        ...         ...            ...    ...   \n",
       "9889    629         27    1.0  42.936724         NaN            1.0      2   \n",
       "9931  15686          1    1.0  47.402412         NaN            1.0     14   \n",
       "9940   4711          6    1.0  41.224118         NaN            1.0      8   \n",
       "9950   5383         48    3.0  98.994909         NaN            1.0      3   \n",
       "9996  16265         27    2.0  64.307684    37.03842            9.0     13   \n",
       "\n",
       "      HouseFloor  HouseYear  Ecology_1  ... Healthcare_1 Helthcare_2  Shops_1  \\\n",
       "24           0.0       1977   0.072158  ...          NaN           0        0   \n",
       "152          0.0       1977   0.049637  ...        229.0           1        3   \n",
       "159          0.0       1977   0.075779  ...          NaN           0        2   \n",
       "186          0.0       1977   0.072158  ...          NaN           0        0   \n",
       "229          0.0       1977   0.195781  ...          NaN           3        2   \n",
       "...          ...        ...        ...  ...          ...         ...      ...   \n",
       "9889         0.0       1977   0.011654  ...          NaN           0        0   \n",
       "9931         0.0       1977   0.007122  ...          NaN           0        1   \n",
       "9940         0.0       1977   0.243205  ...        540.0           0        0   \n",
       "9950         0.0       1977   0.041125  ...          NaN           1       10   \n",
       "9996         0.0       1977   0.072158  ...          NaN           0        0   \n",
       "\n",
       "      Shops_2          Price  Rooms_outlier  Square_outlier  \\\n",
       "24          A  135466.559958              0               0   \n",
       "152         B  247074.564832              0               0   \n",
       "159         B  168705.450148              0               0   \n",
       "186         A  133773.301722              0               0   \n",
       "229         B  442472.456032              0               0   \n",
       "...       ...            ...            ...             ...   \n",
       "9889        B  129674.841139              0               0   \n",
       "9931        B  174740.301224              0               0   \n",
       "9940        B  125612.639104              0               0   \n",
       "9950        B  418817.004446              0               0   \n",
       "9996        A  199715.148807              0               0   \n",
       "\n",
       "      KitchenSquare_outlier LifeSquare_outlier  LifeSquare2  \n",
       "24                        1                  0          NaN  \n",
       "152                       1                  0          NaN  \n",
       "159                       1                  0          NaN  \n",
       "186                       1                  0          NaN  \n",
       "229                       1                  0          NaN  \n",
       "...                     ...                ...          ...  \n",
       "9889                      1                  0          NaN  \n",
       "9931                      1                  0          NaN  \n",
       "9940                      1                  0          NaN  \n",
       "9950                      1                  0          NaN  \n",
       "9996                      0                  0     37.03842  \n",
       "\n",
       "[269 rows x 25 columns]"
      ]
     },
     "execution_count": 30,
     "metadata": {},
     "output_type": "execute_result"
    }
   ],
   "source": [
    "df_train.loc[((df_train.HouseFloor < 1) & (df_train.Floor != 0))]"
   ]
  },
  {
   "cell_type": "markdown",
   "metadata": {},
   "source": [
    "замети, что Floor вроде заполнен корректными данными. HouseFloor заполнен не совсем верно. Много данных, где HouseFloor < 1,\n",
    "при этом Floor во всех этих данных != 0. Заполним нули в HouseFloor и элементы, где HouseFloor < Floor значением Floor.  "
   ]
  },
  {
   "cell_type": "code",
   "execution_count": 31,
   "metadata": {},
   "outputs": [
    {
     "data": {
      "text/plain": [
       "Series([], Name: HouseFloor, dtype: int64)"
      ]
     },
     "execution_count": 31,
     "metadata": {},
     "output_type": "execute_result"
    }
   ],
   "source": [
    "df_train.loc[(df_train.HouseFloor < 1) | (df_train.HouseFloor < df_train.Floor), 'HouseFloor'] = df_train.Floor\n",
    "df_train.HouseFloor[(df_train.HouseFloor < 1) | (df_train.HouseFloor < df_train.Floor)].value_counts()"
   ]
  },
  {
   "cell_type": "markdown",
   "metadata": {},
   "source": [
    "Так же заметим, что есть данные с очень большими этажами. Ограничим их значеним 48, которое кажется верным."
   ]
  },
  {
   "cell_type": "code",
   "execution_count": 32,
   "metadata": {},
   "outputs": [],
   "source": [
    "df_train.HouseFloor[df_train.HouseFloor > 48] = 48"
   ]
  },
  {
   "cell_type": "markdown",
   "metadata": {},
   "source": [
    "***HouseYear***"
   ]
  },
  {
   "cell_type": "code",
   "execution_count": 33,
   "metadata": {},
   "outputs": [
    {
     "data": {
      "text/plain": [
       "1977        2652\n",
       "2017         308\n",
       "2016         305\n",
       "2015         299\n",
       "2014         210\n",
       "            ... \n",
       "1947           1\n",
       "1916           1\n",
       "1910           1\n",
       "1928           1\n",
       "20052011       1\n",
       "Name: HouseYear, Length: 97, dtype: int64"
      ]
     },
     "execution_count": 33,
     "metadata": {},
     "output_type": "execute_result"
    }
   ],
   "source": [
    "df_train.HouseYear.value_counts()"
   ]
  },
  {
   "cell_type": "markdown",
   "metadata": {},
   "source": [
    "Есть значения, которые явно явно заполнены неверно. Заменим их текущим годом"
   ]
  },
  {
   "cell_type": "code",
   "execution_count": 34,
   "metadata": {},
   "outputs": [],
   "source": [
    "df_train.HouseYear[df_train.HouseYear > 2020] = now.year"
   ]
  },
  {
   "cell_type": "markdown",
   "metadata": {},
   "source": [
    "#### Обработка пропусков"
   ]
  },
  {
   "cell_type": "code",
   "execution_count": 35,
   "metadata": {},
   "outputs": [
    {
     "data": {
      "text/plain": [
       "Id                          0\n",
       "DistrictId                  0\n",
       "Rooms                       0\n",
       "Square                      0\n",
       "LifeSquare               2113\n",
       "KitchenSquare               0\n",
       "Floor                       0\n",
       "HouseFloor                  0\n",
       "HouseYear                   0\n",
       "Ecology_1                   0\n",
       "Ecology_2                   0\n",
       "Ecology_3                   0\n",
       "Social_1                    0\n",
       "Social_2                    0\n",
       "Social_3                    0\n",
       "Healthcare_1             4798\n",
       "Helthcare_2                 0\n",
       "Shops_1                     0\n",
       "Shops_2                     0\n",
       "Price                       0\n",
       "Rooms_outlier               0\n",
       "Square_outlier              0\n",
       "KitchenSquare_outlier       0\n",
       "LifeSquare_outlier          0\n",
       "LifeSquare2              2113\n",
       "dtype: int64"
      ]
     },
     "execution_count": 35,
     "metadata": {},
     "output_type": "execute_result"
    }
   ],
   "source": [
    "df_train.isna().sum()"
   ]
  },
  {
   "cell_type": "markdown",
   "metadata": {},
   "source": [
    "***LifeSquare***"
   ]
  },
  {
   "cell_type": "markdown",
   "metadata": {},
   "source": [
    "Заполним пропуски в вух вариантах,  как описано выше"
   ]
  },
  {
   "cell_type": "code",
   "execution_count": 36,
   "metadata": {},
   "outputs": [],
   "source": [
    "df_train['LifeSquare_NA'] = 0\n",
    "df_train.loc[df_train.LifeSquare.isna(), 'LifeSquare_NA'] = 1\n",
    "df_train.LifeSquare[df_train.LifeSquare_NA == 1] = df_train.Square[df_train.LifeSquare_NA == 1] - Square_Life_med\n",
    "for i in Life_Square_med.index:\n",
    "    df_train.LifeSquare2[(df_train.LifeSquare_NA == 1) & (df_train.Rooms == i)] = Life_Square_med[i]"
   ]
  },
  {
   "cell_type": "markdown",
   "metadata": {},
   "source": [
    "***HealthCare_1***"
   ]
  },
  {
   "cell_type": "markdown",
   "metadata": {},
   "source": [
    "В данной фиче почти половина данных - пустая. Хочется ее удалить, но попробуем заполнить её и потом на обучении будем смотреть на её влияние. Построим зависимость среднего от района и второго показателя здоровья "
   ]
  },
  {
   "cell_type": "code",
   "execution_count": 37,
   "metadata": {},
   "outputs": [
    {
     "data": {
      "text/html": [
       "<div>\n",
       "<style scoped>\n",
       "    .dataframe tbody tr th:only-of-type {\n",
       "        vertical-align: middle;\n",
       "    }\n",
       "\n",
       "    .dataframe tbody tr th {\n",
       "        vertical-align: top;\n",
       "    }\n",
       "\n",
       "    .dataframe thead th {\n",
       "        text-align: right;\n",
       "    }\n",
       "</style>\n",
       "<table border=\"1\" class=\"dataframe\">\n",
       "  <thead>\n",
       "    <tr style=\"text-align: right;\">\n",
       "      <th>Helthcare_2</th>\n",
       "      <th>0</th>\n",
       "      <th>1</th>\n",
       "      <th>2</th>\n",
       "      <th>3</th>\n",
       "      <th>4</th>\n",
       "      <th>5</th>\n",
       "      <th>6</th>\n",
       "    </tr>\n",
       "    <tr>\n",
       "      <th>DistrictId</th>\n",
       "      <th></th>\n",
       "      <th></th>\n",
       "      <th></th>\n",
       "      <th></th>\n",
       "      <th></th>\n",
       "      <th></th>\n",
       "      <th></th>\n",
       "    </tr>\n",
       "  </thead>\n",
       "  <tbody>\n",
       "    <tr>\n",
       "      <th>0</th>\n",
       "      <td>NaN</td>\n",
       "      <td>NaN</td>\n",
       "      <td>NaN</td>\n",
       "      <td>NaN</td>\n",
       "      <td>NaN</td>\n",
       "      <td>2857.0</td>\n",
       "      <td>645.0</td>\n",
       "    </tr>\n",
       "    <tr>\n",
       "      <th>1</th>\n",
       "      <td>NaN</td>\n",
       "      <td>200.0</td>\n",
       "      <td>NaN</td>\n",
       "      <td>240.0</td>\n",
       "      <td>NaN</td>\n",
       "      <td>NaN</td>\n",
       "      <td>NaN</td>\n",
       "    </tr>\n",
       "    <tr>\n",
       "      <th>100</th>\n",
       "      <td>NaN</td>\n",
       "      <td>NaN</td>\n",
       "      <td>770.0</td>\n",
       "      <td>NaN</td>\n",
       "      <td>NaN</td>\n",
       "      <td>NaN</td>\n",
       "      <td>NaN</td>\n",
       "    </tr>\n",
       "    <tr>\n",
       "      <th>101</th>\n",
       "      <td>NaN</td>\n",
       "      <td>NaN</td>\n",
       "      <td>1015.0</td>\n",
       "      <td>1548.0</td>\n",
       "      <td>NaN</td>\n",
       "      <td>NaN</td>\n",
       "      <td>NaN</td>\n",
       "    </tr>\n",
       "    <tr>\n",
       "      <th>102</th>\n",
       "      <td>NaN</td>\n",
       "      <td>NaN</td>\n",
       "      <td>NaN</td>\n",
       "      <td>705.0</td>\n",
       "      <td>NaN</td>\n",
       "      <td>NaN</td>\n",
       "      <td>NaN</td>\n",
       "    </tr>\n",
       "    <tr>\n",
       "      <th>...</th>\n",
       "      <td>...</td>\n",
       "      <td>...</td>\n",
       "      <td>...</td>\n",
       "      <td>...</td>\n",
       "      <td>...</td>\n",
       "      <td>...</td>\n",
       "      <td>...</td>\n",
       "    </tr>\n",
       "    <tr>\n",
       "      <th>93</th>\n",
       "      <td>NaN</td>\n",
       "      <td>NaN</td>\n",
       "      <td>30.0</td>\n",
       "      <td>NaN</td>\n",
       "      <td>NaN</td>\n",
       "      <td>NaN</td>\n",
       "      <td>NaN</td>\n",
       "    </tr>\n",
       "    <tr>\n",
       "      <th>95</th>\n",
       "      <td>4129.0</td>\n",
       "      <td>1786.0</td>\n",
       "      <td>NaN</td>\n",
       "      <td>2300.0</td>\n",
       "      <td>NaN</td>\n",
       "      <td>NaN</td>\n",
       "      <td>NaN</td>\n",
       "    </tr>\n",
       "    <tr>\n",
       "      <th>97</th>\n",
       "      <td>NaN</td>\n",
       "      <td>NaN</td>\n",
       "      <td>NaN</td>\n",
       "      <td>NaN</td>\n",
       "      <td>NaN</td>\n",
       "      <td>1575.0</td>\n",
       "      <td>NaN</td>\n",
       "    </tr>\n",
       "    <tr>\n",
       "      <th>98</th>\n",
       "      <td>NaN</td>\n",
       "      <td>NaN</td>\n",
       "      <td>3855.0</td>\n",
       "      <td>NaN</td>\n",
       "      <td>NaN</td>\n",
       "      <td>NaN</td>\n",
       "      <td>NaN</td>\n",
       "    </tr>\n",
       "    <tr>\n",
       "      <th>99</th>\n",
       "      <td>NaN</td>\n",
       "      <td>NaN</td>\n",
       "      <td>2078.0</td>\n",
       "      <td>1322.0</td>\n",
       "      <td>NaN</td>\n",
       "      <td>NaN</td>\n",
       "      <td>NaN</td>\n",
       "    </tr>\n",
       "  </tbody>\n",
       "</table>\n",
       "<p>170 rows × 7 columns</p>\n",
       "</div>"
      ],
      "text/plain": [
       "Helthcare_2       0       1       2       3   4       5      6\n",
       "DistrictId                                                    \n",
       "0               NaN     NaN     NaN     NaN NaN  2857.0  645.0\n",
       "1               NaN   200.0     NaN   240.0 NaN     NaN    NaN\n",
       "100             NaN     NaN   770.0     NaN NaN     NaN    NaN\n",
       "101             NaN     NaN  1015.0  1548.0 NaN     NaN    NaN\n",
       "102             NaN     NaN     NaN   705.0 NaN     NaN    NaN\n",
       "...             ...     ...     ...     ...  ..     ...    ...\n",
       "93              NaN     NaN    30.0     NaN NaN     NaN    NaN\n",
       "95           4129.0  1786.0     NaN  2300.0 NaN     NaN    NaN\n",
       "97              NaN     NaN     NaN     NaN NaN  1575.0    NaN\n",
       "98              NaN     NaN  3855.0     NaN NaN     NaN    NaN\n",
       "99              NaN     NaN  2078.0  1322.0 NaN     NaN    NaN\n",
       "\n",
       "[170 rows x 7 columns]"
      ]
     },
     "execution_count": 37,
     "metadata": {},
     "output_type": "execute_result"
    }
   ],
   "source": [
    "df_train.pivot_table(values = 'Healthcare_1', index = 'DistrictId', columns = 'Helthcare_2', aggfunc = 'median')"
   ]
  },
  {
   "cell_type": "markdown",
   "metadata": {},
   "source": [
    "Здесь слишком много пустых значений, попробуем сгруппировать данные по категориальным данным экологии и второй фиче здоровья, так как скорее всего здоровье как то связано с экологией"
   ]
  },
  {
   "cell_type": "code",
   "execution_count": 38,
   "metadata": {
    "scrolled": true
   },
   "outputs": [
    {
     "data": {
      "text/html": [
       "<div>\n",
       "<style scoped>\n",
       "    .dataframe tbody tr th:only-of-type {\n",
       "        vertical-align: middle;\n",
       "    }\n",
       "\n",
       "    .dataframe tbody tr th {\n",
       "        vertical-align: top;\n",
       "    }\n",
       "\n",
       "    .dataframe thead th {\n",
       "        text-align: right;\n",
       "    }\n",
       "</style>\n",
       "<table border=\"1\" class=\"dataframe\">\n",
       "  <thead>\n",
       "    <tr style=\"text-align: right;\">\n",
       "      <th></th>\n",
       "      <th>Helthcare_2</th>\n",
       "      <th>Ecology_2</th>\n",
       "      <th>Ecology_3</th>\n",
       "      <th>HC1_med</th>\n",
       "    </tr>\n",
       "  </thead>\n",
       "  <tbody>\n",
       "    <tr>\n",
       "      <th>0</th>\n",
       "      <td>0</td>\n",
       "      <td>A</td>\n",
       "      <td>B</td>\n",
       "      <td>370.0</td>\n",
       "    </tr>\n",
       "    <tr>\n",
       "      <th>1</th>\n",
       "      <td>0</td>\n",
       "      <td>B</td>\n",
       "      <td>B</td>\n",
       "      <td>540.0</td>\n",
       "    </tr>\n",
       "    <tr>\n",
       "      <th>2</th>\n",
       "      <td>1</td>\n",
       "      <td>B</td>\n",
       "      <td>A</td>\n",
       "      <td>1130.0</td>\n",
       "    </tr>\n",
       "    <tr>\n",
       "      <th>3</th>\n",
       "      <td>1</td>\n",
       "      <td>B</td>\n",
       "      <td>B</td>\n",
       "      <td>320.0</td>\n",
       "    </tr>\n",
       "    <tr>\n",
       "      <th>4</th>\n",
       "      <td>2</td>\n",
       "      <td>B</td>\n",
       "      <td>A</td>\n",
       "      <td>325.0</td>\n",
       "    </tr>\n",
       "    <tr>\n",
       "      <th>5</th>\n",
       "      <td>2</td>\n",
       "      <td>B</td>\n",
       "      <td>B</td>\n",
       "      <td>750.0</td>\n",
       "    </tr>\n",
       "    <tr>\n",
       "      <th>6</th>\n",
       "      <td>3</td>\n",
       "      <td>A</td>\n",
       "      <td>B</td>\n",
       "      <td>1548.0</td>\n",
       "    </tr>\n",
       "    <tr>\n",
       "      <th>7</th>\n",
       "      <td>3</td>\n",
       "      <td>B</td>\n",
       "      <td>A</td>\n",
       "      <td>4508.0</td>\n",
       "    </tr>\n",
       "    <tr>\n",
       "      <th>8</th>\n",
       "      <td>3</td>\n",
       "      <td>B</td>\n",
       "      <td>B</td>\n",
       "      <td>1046.0</td>\n",
       "    </tr>\n",
       "    <tr>\n",
       "      <th>9</th>\n",
       "      <td>4</td>\n",
       "      <td>B</td>\n",
       "      <td>A</td>\n",
       "      <td>830.0</td>\n",
       "    </tr>\n",
       "    <tr>\n",
       "      <th>10</th>\n",
       "      <td>4</td>\n",
       "      <td>B</td>\n",
       "      <td>B</td>\n",
       "      <td>1894.0</td>\n",
       "    </tr>\n",
       "    <tr>\n",
       "      <th>11</th>\n",
       "      <td>5</td>\n",
       "      <td>B</td>\n",
       "      <td>B</td>\n",
       "      <td>1575.0</td>\n",
       "    </tr>\n",
       "    <tr>\n",
       "      <th>12</th>\n",
       "      <td>6</td>\n",
       "      <td>B</td>\n",
       "      <td>B</td>\n",
       "      <td>645.0</td>\n",
       "    </tr>\n",
       "  </tbody>\n",
       "</table>\n",
       "</div>"
      ],
      "text/plain": [
       "    Helthcare_2 Ecology_2 Ecology_3  HC1_med\n",
       "0             0         A         B    370.0\n",
       "1             0         B         B    540.0\n",
       "2             1         B         A   1130.0\n",
       "3             1         B         B    320.0\n",
       "4             2         B         A    325.0\n",
       "5             2         B         B    750.0\n",
       "6             3         A         B   1548.0\n",
       "7             3         B         A   4508.0\n",
       "8             3         B         B   1046.0\n",
       "9             4         B         A    830.0\n",
       "10            4         B         B   1894.0\n",
       "11            5         B         B   1575.0\n",
       "12            6         B         B    645.0"
      ]
     },
     "execution_count": 38,
     "metadata": {},
     "output_type": "execute_result"
    }
   ],
   "source": [
    "Grouped_to_HC1 = df_train.groupby(['Helthcare_2', 'Ecology_2', 'Ecology_3'],\\\n",
    "                                  as_index = False).agg({'Healthcare_1':'median'}).rename(columns = {'Healthcare_1': 'HC1_med'})\n",
    "Grouped_to_HC1"
   ]
  },
  {
   "cell_type": "markdown",
   "metadata": {},
   "source": [
    "Этими данными уже можно заполнить пустые значения"
   ]
  },
  {
   "cell_type": "code",
   "execution_count": 39,
   "metadata": {},
   "outputs": [],
   "source": [
    "df_train['Healthcare1_NA'] = 0\n",
    "df_train.loc[df_train.Healthcare_1.isnull(), 'Healthcare1_NA'] = 1"
   ]
  },
  {
   "cell_type": "code",
   "execution_count": 40,
   "metadata": {},
   "outputs": [
    {
     "data": {
      "text/html": [
       "<div>\n",
       "<style scoped>\n",
       "    .dataframe tbody tr th:only-of-type {\n",
       "        vertical-align: middle;\n",
       "    }\n",
       "\n",
       "    .dataframe tbody tr th {\n",
       "        vertical-align: top;\n",
       "    }\n",
       "\n",
       "    .dataframe thead th {\n",
       "        text-align: right;\n",
       "    }\n",
       "</style>\n",
       "<table border=\"1\" class=\"dataframe\">\n",
       "  <thead>\n",
       "    <tr style=\"text-align: right;\">\n",
       "      <th></th>\n",
       "      <th>Id</th>\n",
       "      <th>Helthcare_2</th>\n",
       "      <th>Ecology_2</th>\n",
       "      <th>Ecology_3</th>\n",
       "      <th>HC1_med</th>\n",
       "    </tr>\n",
       "  </thead>\n",
       "  <tbody>\n",
       "    <tr>\n",
       "      <th>0</th>\n",
       "      <td>11809</td>\n",
       "      <td>0</td>\n",
       "      <td>B</td>\n",
       "      <td>B</td>\n",
       "      <td>540.0</td>\n",
       "    </tr>\n",
       "    <tr>\n",
       "      <th>1</th>\n",
       "      <td>3013</td>\n",
       "      <td>1</td>\n",
       "      <td>B</td>\n",
       "      <td>B</td>\n",
       "      <td>320.0</td>\n",
       "    </tr>\n",
       "    <tr>\n",
       "      <th>2</th>\n",
       "      <td>8215</td>\n",
       "      <td>3</td>\n",
       "      <td>B</td>\n",
       "      <td>B</td>\n",
       "      <td>1046.0</td>\n",
       "    </tr>\n",
       "    <tr>\n",
       "      <th>3</th>\n",
       "      <td>2352</td>\n",
       "      <td>0</td>\n",
       "      <td>B</td>\n",
       "      <td>B</td>\n",
       "      <td>540.0</td>\n",
       "    </tr>\n",
       "    <tr>\n",
       "      <th>4</th>\n",
       "      <td>13866</td>\n",
       "      <td>0</td>\n",
       "      <td>B</td>\n",
       "      <td>B</td>\n",
       "      <td>540.0</td>\n",
       "    </tr>\n",
       "    <tr>\n",
       "      <th>...</th>\n",
       "      <td>...</td>\n",
       "      <td>...</td>\n",
       "      <td>...</td>\n",
       "      <td>...</td>\n",
       "      <td>...</td>\n",
       "    </tr>\n",
       "    <tr>\n",
       "      <th>9995</th>\n",
       "      <td>1260</td>\n",
       "      <td>1</td>\n",
       "      <td>B</td>\n",
       "      <td>B</td>\n",
       "      <td>320.0</td>\n",
       "    </tr>\n",
       "    <tr>\n",
       "      <th>9996</th>\n",
       "      <td>16265</td>\n",
       "      <td>0</td>\n",
       "      <td>B</td>\n",
       "      <td>B</td>\n",
       "      <td>540.0</td>\n",
       "    </tr>\n",
       "    <tr>\n",
       "      <th>9997</th>\n",
       "      <td>2795</td>\n",
       "      <td>1</td>\n",
       "      <td>B</td>\n",
       "      <td>B</td>\n",
       "      <td>320.0</td>\n",
       "    </tr>\n",
       "    <tr>\n",
       "      <th>9998</th>\n",
       "      <td>14561</td>\n",
       "      <td>3</td>\n",
       "      <td>B</td>\n",
       "      <td>B</td>\n",
       "      <td>1046.0</td>\n",
       "    </tr>\n",
       "    <tr>\n",
       "      <th>9999</th>\n",
       "      <td>7202</td>\n",
       "      <td>3</td>\n",
       "      <td>B</td>\n",
       "      <td>B</td>\n",
       "      <td>1046.0</td>\n",
       "    </tr>\n",
       "  </tbody>\n",
       "</table>\n",
       "<p>10000 rows × 5 columns</p>\n",
       "</div>"
      ],
      "text/plain": [
       "         Id  Helthcare_2 Ecology_2 Ecology_3  HC1_med\n",
       "0     11809            0         B         B    540.0\n",
       "1      3013            1         B         B    320.0\n",
       "2      8215            3         B         B   1046.0\n",
       "3      2352            0         B         B    540.0\n",
       "4     13866            0         B         B    540.0\n",
       "...     ...          ...       ...       ...      ...\n",
       "9995   1260            1         B         B    320.0\n",
       "9996  16265            0         B         B    540.0\n",
       "9997   2795            1         B         B    320.0\n",
       "9998  14561            3         B         B   1046.0\n",
       "9999   7202            3         B         B   1046.0\n",
       "\n",
       "[10000 rows x 5 columns]"
      ]
     },
     "execution_count": 40,
     "metadata": {},
     "output_type": "execute_result"
    }
   ],
   "source": [
    "#создадим таблицу с заполнеными данными по Healthcare_1 и Id\n",
    "df_for_Healthcare = df_train[['Id','Helthcare_2', 'Ecology_2', 'Ecology_3']]\n",
    "df_for_Healthcare = df_for_Healthcare.merge(Grouped_to_HC1, on=['Helthcare_2', 'Ecology_2', 'Ecology_3'], how='left')\n",
    "df_for_Healthcare"
   ]
  },
  {
   "cell_type": "code",
   "execution_count": 41,
   "metadata": {},
   "outputs": [],
   "source": [
    "df_train = df_train.merge(df_for_Healthcare[['Id', 'HC1_med']], on = ['Id'], how = 'left')"
   ]
  },
  {
   "cell_type": "code",
   "execution_count": 42,
   "metadata": {},
   "outputs": [],
   "source": [
    "df_train.loc[(df_train['Healthcare1_NA'] == 1), 'Healthcare_1'] = df_train.HC1_med[df_train['Healthcare1_NA'] == 1]"
   ]
  },
  {
   "cell_type": "code",
   "execution_count": 43,
   "metadata": {},
   "outputs": [
    {
     "data": {
      "text/plain": [
       "Id                       0\n",
       "DistrictId               0\n",
       "Rooms                    0\n",
       "Square                   0\n",
       "LifeSquare               0\n",
       "KitchenSquare            0\n",
       "Floor                    0\n",
       "HouseFloor               0\n",
       "HouseYear                0\n",
       "Ecology_1                0\n",
       "Ecology_2                0\n",
       "Ecology_3                0\n",
       "Social_1                 0\n",
       "Social_2                 0\n",
       "Social_3                 0\n",
       "Healthcare_1             0\n",
       "Helthcare_2              0\n",
       "Shops_1                  0\n",
       "Shops_2                  0\n",
       "Price                    0\n",
       "Rooms_outlier            0\n",
       "Square_outlier           0\n",
       "KitchenSquare_outlier    0\n",
       "LifeSquare_outlier       0\n",
       "LifeSquare2              0\n",
       "LifeSquare_NA            0\n",
       "Healthcare1_NA           0\n",
       "HC1_med                  0\n",
       "dtype: int64"
      ]
     },
     "execution_count": 43,
     "metadata": {},
     "output_type": "execute_result"
    }
   ],
   "source": [
    "df_train.isnull().sum()"
   ]
  },
  {
   "cell_type": "code",
   "execution_count": 76,
   "metadata": {},
   "outputs": [],
   "source": [
    "class DataPreprocessing:\n",
    "    def __init__(self):\n",
    "        self.medians = None\n",
    "        self.med_Rooms = None\n",
    "        self.med_Square = None\n",
    "        self.Square_min = None\n",
    "        self.Square_max = None\n",
    "        self.Square_Life_med = None\n",
    "        self.Life_Square_med = None\n",
    "        self.KitchenSquare_max = None\n",
    "        self.Grouped_to_HC1 = None\n",
    "        self.LifeSquare_max = None\n",
    "        self.LifeSquare_min = None\n",
    "        \n",
    "        \n",
    "    def fit(self, X):\n",
    "        self.medians = X.median()\n",
    "        self.med_Rooms = X.Rooms.median()\n",
    "        self.med_Square = X['Square'].median()\n",
    "        self.Square_min = X['Square'].quantile(0.005)\n",
    "        self.Square_max = X['Square'].quantile(0.995)\n",
    "        self.LifeSquare_max = X.LifeSquare.quantile(0.995)\n",
    "        self.LifeSquare_min = X.LifeSquare.quantile(0.005)\n",
    "        #Расчет параметров для заполнений пустых значений LifeSquare\n",
    "        lst_med = []\n",
    "        lst_ind = []\n",
    "        self.Square_Life_med = (X['Square'] - X['LifeSquare']).median()\n",
    "        for i in X['Rooms'].unique():\n",
    "            lst_ind.append(i)\n",
    "            lst_med.append(X[X['Rooms'] == i].LifeSquare.median())\n",
    "        self.Life_Square_med = pd.Series(data = lst_med, index = lst_ind)\n",
    "        self.KitchenSquare_max = X.KitchenSquare.quantile(0.99)\n",
    "        self.Grouped_to_HC1 = X.groupby(['Helthcare_2', 'Ecology_2', 'Ecology_3'],\\\n",
    "                                  as_index = False).agg({'Healthcare_1':'median'}).rename(columns = {'Healthcare_1': 'HC1_med'})\n",
    "\n",
    "    \n",
    "        \n",
    "    def transform(self, X):\n",
    "        #Обработка пропусков\n",
    "        #Rooms\n",
    "        X['DistrictId'] = X['DistrictId'].astype(str)\n",
    "        X['Rooms_outlier'] = 0\n",
    "        X.loc[(X['Rooms'] < 1) | (X['Rooms'] > 5), 'Rooms_outlier'] = 1\n",
    "        X.loc[(X['Rooms'] > 5) & (X['Rooms'] < 8), 'Rooms'] = 5\n",
    "        X.loc[(X['Rooms'] > 8), 'Rooms'] = self.med_Rooms\n",
    "        X.loc[(X['Rooms'] < 1), 'Rooms'] = 1\n",
    "        X.Rooms.value_counts()\n",
    "        \n",
    "        #Square\n",
    "        X['Square_outlier'] = 0\n",
    "        X.loc[(X['Square'] < self.Square_min) | (X['Square'] > self.Square_max ), 'Square_outlier'] = 1\n",
    "        X.loc[(X['Square'] > self.Square_max) , 'Square'] = self.med_Square\n",
    "        X.loc[(X['Square'] < self.Square_min) , 'Square'] = self.Square_min\n",
    "        \n",
    "        \n",
    "        #KitchenSquare\n",
    "        X['KitchenSquare_outlier'] = 0\n",
    "        X.loc[(X.KitchenSquare > self.KitchenSquare_max) | (X.KitchenSquare <= 2), \\\n",
    "            'KitchenSquare_outlier'] = 1\n",
    "        X.loc[(X.KitchenSquare > self.KitchenSquare_max), 'KitchenSquare'] = self.KitchenSquare_max\n",
    "        X.loc[(X.KitchenSquare <= 2), 'KitchenSquare'] = 1\n",
    "        \n",
    "        #LifeSquare\n",
    "        X['LifeSquare_outlier'] = 0\n",
    "        X['LifeSquare2'] = X['LifeSquare']\n",
    "        X.loc[(X.LifeSquare > self.LifeSquare_max) | (X.LifeSquare < self.LifeSquare_min), 'LifeSquare_outlier'] = 1\n",
    "        X.LifeSquare[X.LifeSquare_outlier == 1] = X.Square[X.LifeSquare_outlier == 1] - self.Square_Life_med\n",
    "        for i in self.Life_Square_med.index:\n",
    "            X.LifeSquare2[(X.LifeSquare_outlier == 1) & (X.Rooms == i)] = self.Life_Square_med[i]\n",
    "            \n",
    "        #HouseFloor\n",
    "        X.loc[(X.HouseFloor < 1) | (X.HouseFloor < X.Floor), 'HouseFloor'] = X.Floor\n",
    "        X.HouseFloor[X.HouseFloor > 48] = 48\n",
    "        \n",
    "        #HouseYear\n",
    "        X.HouseYear[X.HouseYear > 2020] = now.year\n",
    "        \n",
    "        \n",
    "        #Обработка выбросов\n",
    "        #LifeSquare\n",
    "        X['LifeSquare_NA'] = 0\n",
    "        X.loc[X.LifeSquare.isna(), 'LifeSquare_NA'] = 1\n",
    "        X.LifeSquare[X.LifeSquare_NA == 1] = X.Square[X.LifeSquare_NA == 1] - self.Square_Life_med\n",
    "        for i in self.Life_Square_med.index:\n",
    "            X.LifeSquare2[(X.LifeSquare_NA == 1) & (X.Rooms == i)] = self.Life_Square_med[i]\n",
    "        #Healthcare_1 \n",
    "        X['Healthcare1_NA'] = 0\n",
    "        X.loc[X.Healthcare_1.isnull(), 'Healthcare1_NA'] = 1\n",
    "        df_for_Healthcare = X[['Id','Helthcare_2', 'Ecology_2', 'Ecology_3']]\n",
    "        df_for_Healthcare = df_for_Healthcare.merge(self.Grouped_to_HC1,\\\n",
    "                                                    on=['Helthcare_2', 'Ecology_2', 'Ecology_3'], how='left')\n",
    "        X = X.merge(df_for_Healthcare[['Id', 'HC1_med']], on = ['Id'], how = 'left')\n",
    "        X.loc[(X['Healthcare1_NA'] == 1), 'Healthcare_1'] = X.HC1_med[X['Healthcare1_NA'] == 1]\n",
    "        \n",
    "        X.fillna(self.medians, inplace=True)\n",
    "        \n",
    "        return X"
   ]
  },
  {
   "cell_type": "markdown",
   "metadata": {},
   "source": [
    "df_train = pd.read_csv('train.csv', sep = ',')\n",
    "procc = DataPreprocessing()\n",
    "procc.fit(df_train)\n",
    "df_train = procc.transform(df_train)"
   ]
  },
  {
   "cell_type": "markdown",
   "metadata": {},
   "source": [
    "#### Создание новых фич"
   ]
  },
  {
   "cell_type": "markdown",
   "metadata": {},
   "source": [
    "***Dummy***"
   ]
  },
  {
   "cell_type": "code",
   "execution_count": 45,
   "metadata": {},
   "outputs": [],
   "source": [
    "change_dict = {'A' : 0, 'B' : 1}\n",
    "df_train[['Shops_2','Ecology_2', 'Ecology_3']] = df_train[['Shops_2','Ecology_2', 'Ecology_3']].replace(change_dict)"
   ]
  },
  {
   "cell_type": "markdown",
   "metadata": {},
   "source": [
    "***Cluster***"
   ]
  },
  {
   "cell_type": "markdown",
   "metadata": {},
   "source": [
    "Попробуем выполнить понижение размерности"
   ]
  },
  {
   "cell_type": "code",
   "execution_count": 46,
   "metadata": {
    "scrolled": true
   },
   "outputs": [
    {
     "data": {
      "image/png": "[encoded data removed]",
      "text/plain": [
       "<Figure size 432x288 with 1 Axes>"
      ]
     },
     "metadata": {
      "needs_background": "light"
     },
     "output_type": "display_data"
    }
   ],
   "source": [
    "tsne = TSNE(n_components=2, learning_rate=100, random_state=100)\n",
    "\n",
    "df_train_tsne = tsne.fit_transform(df_train)\n",
    "plt.scatter(df_train_tsne[:, 0], df_train_tsne[:, 1])\n",
    "\n",
    "plt.show()"
   ]
  },
  {
   "cell_type": "markdown",
   "metadata": {},
   "source": [
    "Видно, что данные представлены хорошо и можно попробовать сделать кластеризацию. Было выялвено, что KMeans с делением на 5ть кластеров справляется наилучшим образом с данной задачей"
   ]
  },
  {
   "cell_type": "code",
   "execution_count": 47,
   "metadata": {},
   "outputs": [
    {
     "data": {
      "image/png": "[encoded data removed]",
      "text/plain": [
       "<Figure size 432x288 with 1 Axes>"
      ]
     },
     "metadata": {
      "needs_background": "light"
     },
     "output_type": "display_data"
    }
   ],
   "source": [
    "KM_mdl = KMeans(n_clusters=5, random_state=42, max_iter = 100)\n",
    "train_labels = KM_mdl.fit_predict(df_train)\n",
    "plt.scatter(df_train_tsne[:, 0], df_train_tsne[:, 1],  c = train_labels)\n",
    "\n",
    "plt.show()"
   ]
  },
  {
   "cell_type": "code",
   "execution_count": 48,
   "metadata": {},
   "outputs": [
    {
     "data": {
      "text/html": [
       "<div>\n",
       "<style scoped>\n",
       "    .dataframe tbody tr th:only-of-type {\n",
       "        vertical-align: middle;\n",
       "    }\n",
       "\n",
       "    .dataframe tbody tr th {\n",
       "        vertical-align: top;\n",
       "    }\n",
       "\n",
       "    .dataframe thead th {\n",
       "        text-align: right;\n",
       "    }\n",
       "</style>\n",
       "<table border=\"1\" class=\"dataframe\">\n",
       "  <thead>\n",
       "    <tr style=\"text-align: right;\">\n",
       "      <th></th>\n",
       "      <th>Id</th>\n",
       "      <th>DistrictId</th>\n",
       "      <th>Rooms</th>\n",
       "      <th>Square</th>\n",
       "      <th>LifeSquare</th>\n",
       "      <th>KitchenSquare</th>\n",
       "      <th>Floor</th>\n",
       "      <th>HouseFloor</th>\n",
       "      <th>HouseYear</th>\n",
       "      <th>Ecology_1</th>\n",
       "      <th>...</th>\n",
       "      <th>Price</th>\n",
       "      <th>Rooms_outlier</th>\n",
       "      <th>Square_outlier</th>\n",
       "      <th>KitchenSquare_outlier</th>\n",
       "      <th>LifeSquare_outlier</th>\n",
       "      <th>LifeSquare2</th>\n",
       "      <th>LifeSquare_NA</th>\n",
       "      <th>Healthcare1_NA</th>\n",
       "      <th>HC1_med</th>\n",
       "      <th>Cluster</th>\n",
       "    </tr>\n",
       "  </thead>\n",
       "  <tbody>\n",
       "    <tr>\n",
       "      <th>0</th>\n",
       "      <td>11809</td>\n",
       "      <td>27</td>\n",
       "      <td>3.0</td>\n",
       "      <td>115.027311</td>\n",
       "      <td>96.563211</td>\n",
       "      <td>10.0</td>\n",
       "      <td>4</td>\n",
       "      <td>10.0</td>\n",
       "      <td>2014</td>\n",
       "      <td>0.075424</td>\n",
       "      <td>...</td>\n",
       "      <td>305018.871089</td>\n",
       "      <td>0</td>\n",
       "      <td>0</td>\n",
       "      <td>0</td>\n",
       "      <td>0</td>\n",
       "      <td>46.960480</td>\n",
       "      <td>1</td>\n",
       "      <td>1</td>\n",
       "      <td>540.0</td>\n",
       "      <td>1</td>\n",
       "    </tr>\n",
       "    <tr>\n",
       "      <th>1</th>\n",
       "      <td>3013</td>\n",
       "      <td>22</td>\n",
       "      <td>1.0</td>\n",
       "      <td>39.832524</td>\n",
       "      <td>23.169223</td>\n",
       "      <td>8.0</td>\n",
       "      <td>7</td>\n",
       "      <td>8.0</td>\n",
       "      <td>1966</td>\n",
       "      <td>0.118537</td>\n",
       "      <td>...</td>\n",
       "      <td>177734.553407</td>\n",
       "      <td>0</td>\n",
       "      <td>0</td>\n",
       "      <td>0</td>\n",
       "      <td>0</td>\n",
       "      <td>23.169223</td>\n",
       "      <td>0</td>\n",
       "      <td>0</td>\n",
       "      <td>320.0</td>\n",
       "      <td>0</td>\n",
       "    </tr>\n",
       "    <tr>\n",
       "      <th>2</th>\n",
       "      <td>8215</td>\n",
       "      <td>1</td>\n",
       "      <td>3.0</td>\n",
       "      <td>78.342215</td>\n",
       "      <td>47.671972</td>\n",
       "      <td>10.0</td>\n",
       "      <td>2</td>\n",
       "      <td>17.0</td>\n",
       "      <td>1988</td>\n",
       "      <td>0.025609</td>\n",
       "      <td>...</td>\n",
       "      <td>282078.720850</td>\n",
       "      <td>0</td>\n",
       "      <td>0</td>\n",
       "      <td>0</td>\n",
       "      <td>0</td>\n",
       "      <td>47.671972</td>\n",
       "      <td>0</td>\n",
       "      <td>0</td>\n",
       "      <td>1046.0</td>\n",
       "      <td>3</td>\n",
       "    </tr>\n",
       "    <tr>\n",
       "      <th>3</th>\n",
       "      <td>2352</td>\n",
       "      <td>1</td>\n",
       "      <td>1.0</td>\n",
       "      <td>40.409907</td>\n",
       "      <td>21.945807</td>\n",
       "      <td>1.0</td>\n",
       "      <td>10</td>\n",
       "      <td>22.0</td>\n",
       "      <td>1977</td>\n",
       "      <td>0.007122</td>\n",
       "      <td>...</td>\n",
       "      <td>168106.007630</td>\n",
       "      <td>0</td>\n",
       "      <td>0</td>\n",
       "      <td>1</td>\n",
       "      <td>0</td>\n",
       "      <td>21.663951</td>\n",
       "      <td>1</td>\n",
       "      <td>1</td>\n",
       "      <td>540.0</td>\n",
       "      <td>0</td>\n",
       "    </tr>\n",
       "    <tr>\n",
       "      <th>4</th>\n",
       "      <td>13866</td>\n",
       "      <td>94</td>\n",
       "      <td>2.0</td>\n",
       "      <td>64.285067</td>\n",
       "      <td>38.562517</td>\n",
       "      <td>9.0</td>\n",
       "      <td>16</td>\n",
       "      <td>16.0</td>\n",
       "      <td>1972</td>\n",
       "      <td>0.282798</td>\n",
       "      <td>...</td>\n",
       "      <td>343995.102962</td>\n",
       "      <td>0</td>\n",
       "      <td>0</td>\n",
       "      <td>0</td>\n",
       "      <td>0</td>\n",
       "      <td>38.562517</td>\n",
       "      <td>0</td>\n",
       "      <td>1</td>\n",
       "      <td>540.0</td>\n",
       "      <td>1</td>\n",
       "    </tr>\n",
       "    <tr>\n",
       "      <th>...</th>\n",
       "      <td>...</td>\n",
       "      <td>...</td>\n",
       "      <td>...</td>\n",
       "      <td>...</td>\n",
       "      <td>...</td>\n",
       "      <td>...</td>\n",
       "      <td>...</td>\n",
       "      <td>...</td>\n",
       "      <td>...</td>\n",
       "      <td>...</td>\n",
       "      <td>...</td>\n",
       "      <td>...</td>\n",
       "      <td>...</td>\n",
       "      <td>...</td>\n",
       "      <td>...</td>\n",
       "      <td>...</td>\n",
       "      <td>...</td>\n",
       "      <td>...</td>\n",
       "      <td>...</td>\n",
       "      <td>...</td>\n",
       "      <td>...</td>\n",
       "    </tr>\n",
       "    <tr>\n",
       "      <th>9995</th>\n",
       "      <td>1260</td>\n",
       "      <td>61</td>\n",
       "      <td>2.0</td>\n",
       "      <td>49.090728</td>\n",
       "      <td>33.272626</td>\n",
       "      <td>6.0</td>\n",
       "      <td>3</td>\n",
       "      <td>12.0</td>\n",
       "      <td>1981</td>\n",
       "      <td>0.300323</td>\n",
       "      <td>...</td>\n",
       "      <td>119367.455796</td>\n",
       "      <td>0</td>\n",
       "      <td>0</td>\n",
       "      <td>0</td>\n",
       "      <td>0</td>\n",
       "      <td>33.272626</td>\n",
       "      <td>0</td>\n",
       "      <td>1</td>\n",
       "      <td>320.0</td>\n",
       "      <td>2</td>\n",
       "    </tr>\n",
       "    <tr>\n",
       "      <th>9996</th>\n",
       "      <td>16265</td>\n",
       "      <td>27</td>\n",
       "      <td>2.0</td>\n",
       "      <td>64.307684</td>\n",
       "      <td>37.038420</td>\n",
       "      <td>9.0</td>\n",
       "      <td>13</td>\n",
       "      <td>13.0</td>\n",
       "      <td>1977</td>\n",
       "      <td>0.072158</td>\n",
       "      <td>...</td>\n",
       "      <td>199715.148807</td>\n",
       "      <td>0</td>\n",
       "      <td>0</td>\n",
       "      <td>0</td>\n",
       "      <td>0</td>\n",
       "      <td>37.038420</td>\n",
       "      <td>0</td>\n",
       "      <td>1</td>\n",
       "      <td>540.0</td>\n",
       "      <td>0</td>\n",
       "    </tr>\n",
       "    <tr>\n",
       "      <th>9997</th>\n",
       "      <td>2795</td>\n",
       "      <td>178</td>\n",
       "      <td>1.0</td>\n",
       "      <td>29.648057</td>\n",
       "      <td>16.555363</td>\n",
       "      <td>5.0</td>\n",
       "      <td>3</td>\n",
       "      <td>5.0</td>\n",
       "      <td>1958</td>\n",
       "      <td>0.460556</td>\n",
       "      <td>...</td>\n",
       "      <td>165953.912580</td>\n",
       "      <td>0</td>\n",
       "      <td>0</td>\n",
       "      <td>0</td>\n",
       "      <td>0</td>\n",
       "      <td>16.555363</td>\n",
       "      <td>0</td>\n",
       "      <td>1</td>\n",
       "      <td>320.0</td>\n",
       "      <td>0</td>\n",
       "    </tr>\n",
       "    <tr>\n",
       "      <th>9998</th>\n",
       "      <td>14561</td>\n",
       "      <td>21</td>\n",
       "      <td>1.0</td>\n",
       "      <td>32.330292</td>\n",
       "      <td>22.326870</td>\n",
       "      <td>5.0</td>\n",
       "      <td>3</td>\n",
       "      <td>9.0</td>\n",
       "      <td>1969</td>\n",
       "      <td>0.194489</td>\n",
       "      <td>...</td>\n",
       "      <td>171842.411855</td>\n",
       "      <td>0</td>\n",
       "      <td>0</td>\n",
       "      <td>0</td>\n",
       "      <td>0</td>\n",
       "      <td>22.326870</td>\n",
       "      <td>0</td>\n",
       "      <td>0</td>\n",
       "      <td>1046.0</td>\n",
       "      <td>0</td>\n",
       "    </tr>\n",
       "    <tr>\n",
       "      <th>9999</th>\n",
       "      <td>7202</td>\n",
       "      <td>94</td>\n",
       "      <td>1.0</td>\n",
       "      <td>35.815476</td>\n",
       "      <td>22.301367</td>\n",
       "      <td>6.0</td>\n",
       "      <td>9</td>\n",
       "      <td>9.0</td>\n",
       "      <td>1975</td>\n",
       "      <td>0.127376</td>\n",
       "      <td>...</td>\n",
       "      <td>177685.627486</td>\n",
       "      <td>0</td>\n",
       "      <td>0</td>\n",
       "      <td>0</td>\n",
       "      <td>0</td>\n",
       "      <td>22.301367</td>\n",
       "      <td>0</td>\n",
       "      <td>1</td>\n",
       "      <td>1046.0</td>\n",
       "      <td>0</td>\n",
       "    </tr>\n",
       "  </tbody>\n",
       "</table>\n",
       "<p>10000 rows × 29 columns</p>\n",
       "</div>"
      ],
      "text/plain": [
       "         Id DistrictId  Rooms      Square  LifeSquare  KitchenSquare  Floor  \\\n",
       "0     11809         27    3.0  115.027311   96.563211           10.0      4   \n",
       "1      3013         22    1.0   39.832524   23.169223            8.0      7   \n",
       "2      8215          1    3.0   78.342215   47.671972           10.0      2   \n",
       "3      2352          1    1.0   40.409907   21.945807            1.0     10   \n",
       "4     13866         94    2.0   64.285067   38.562517            9.0     16   \n",
       "...     ...        ...    ...         ...         ...            ...    ...   \n",
       "9995   1260         61    2.0   49.090728   33.272626            6.0      3   \n",
       "9996  16265         27    2.0   64.307684   37.038420            9.0     13   \n",
       "9997   2795        178    1.0   29.648057   16.555363            5.0      3   \n",
       "9998  14561         21    1.0   32.330292   22.326870            5.0      3   \n",
       "9999   7202         94    1.0   35.815476   22.301367            6.0      9   \n",
       "\n",
       "      HouseFloor  HouseYear  Ecology_1  ...          Price  Rooms_outlier  \\\n",
       "0           10.0       2014   0.075424  ...  305018.871089              0   \n",
       "1            8.0       1966   0.118537  ...  177734.553407              0   \n",
       "2           17.0       1988   0.025609  ...  282078.720850              0   \n",
       "3           22.0       1977   0.007122  ...  168106.007630              0   \n",
       "4           16.0       1972   0.282798  ...  343995.102962              0   \n",
       "...          ...        ...        ...  ...            ...            ...   \n",
       "9995        12.0       1981   0.300323  ...  119367.455796              0   \n",
       "9996        13.0       1977   0.072158  ...  199715.148807              0   \n",
       "9997         5.0       1958   0.460556  ...  165953.912580              0   \n",
       "9998         9.0       1969   0.194489  ...  171842.411855              0   \n",
       "9999         9.0       1975   0.127376  ...  177685.627486              0   \n",
       "\n",
       "      Square_outlier  KitchenSquare_outlier  LifeSquare_outlier  LifeSquare2  \\\n",
       "0                  0                      0                   0    46.960480   \n",
       "1                  0                      0                   0    23.169223   \n",
       "2                  0                      0                   0    47.671972   \n",
       "3                  0                      1                   0    21.663951   \n",
       "4                  0                      0                   0    38.562517   \n",
       "...              ...                    ...                 ...          ...   \n",
       "9995               0                      0                   0    33.272626   \n",
       "9996               0                      0                   0    37.038420   \n",
       "9997               0                      0                   0    16.555363   \n",
       "9998               0                      0                   0    22.326870   \n",
       "9999               0                      0                   0    22.301367   \n",
       "\n",
       "      LifeSquare_NA  Healthcare1_NA  HC1_med  Cluster  \n",
       "0                 1               1    540.0        1  \n",
       "1                 0               0    320.0        0  \n",
       "2                 0               0   1046.0        3  \n",
       "3                 1               1    540.0        0  \n",
       "4                 0               1    540.0        1  \n",
       "...             ...             ...      ...      ...  \n",
       "9995              0               1    320.0        2  \n",
       "9996              0               1    540.0        0  \n",
       "9997              0               1    320.0        0  \n",
       "9998              0               0   1046.0        0  \n",
       "9999              0               1   1046.0        0  \n",
       "\n",
       "[10000 rows x 29 columns]"
      ]
     },
     "execution_count": 48,
     "metadata": {},
     "output_type": "execute_result"
    }
   ],
   "source": [
    "df_train['Cluster'] = train_labels\n",
    "df_train"
   ]
  },
  {
   "cell_type": "markdown",
   "metadata": {},
   "source": [
    "***DistricPopularity, DistrictWeight***"
   ]
  },
  {
   "cell_type": "markdown",
   "metadata": {},
   "source": [
    "Введем два новых признака DistrictPopularity - количество каждого района и DisrtictWeight - процент района от общего числа переменных(вес района) "
   ]
  },
  {
   "cell_type": "code",
   "execution_count": 49,
   "metadata": {},
   "outputs": [],
   "source": [
    "popular = df_train.groupby('DistrictId').agg({'DistrictId': 'count'}).rename(columns = {'DistrictId': 'DistrictPopularity'})\n",
    "popular = popular.sort_values(by = 'DistrictPopularity', ascending = False).reset_index()\n",
    "District_part = pd.DataFrame({'DistrictPopularity' : popular.DistrictPopularity.sort_values().unique(),\\\n",
    "                              'DistrictWeight' :  popular.DistrictPopularity.sort_values().unique() / 10000})\n",
    "popular = popular.merge(District_part, on = 'DistrictPopularity', how = 'left')\n",
    "df_train = df_train.merge(popular, on = 'DistrictId')"
   ]
  },
  {
   "cell_type": "markdown",
   "metadata": {},
   "source": [
    "***SquareVeracity***"
   ]
  },
  {
   "cell_type": "code",
   "execution_count": 50,
   "metadata": {},
   "outputs": [
    {
     "data": {
      "text/plain": [
       "842"
      ]
     },
     "execution_count": 50,
     "metadata": {},
     "output_type": "execute_result"
    }
   ],
   "source": [
    "(df_train['Square'] < df_train['LifeSquare'] + df_train['KitchenSquare']).sum()"
   ]
  },
  {
   "cell_type": "markdown",
   "metadata": {},
   "source": [
    "Введем переменную, которая будет показывать, когда площадь меньше суммы площадей жилой площади и кухни(достоверность площади)"
   ]
  },
  {
   "cell_type": "code",
   "execution_count": 51,
   "metadata": {},
   "outputs": [],
   "source": [
    "df_train['SquareVeracity'] = 1\n",
    "df_train.loc[(df_train['Square'] < df_train['LifeSquare'] + df_train['KitchenSquare']), 'SquareVeracity'] = 0"
   ]
  },
  {
   "cell_type": "markdown",
   "metadata": {},
   "source": [
    "***medPrDistrYear***"
   ]
  },
  {
   "cell_type": "markdown",
   "metadata": {},
   "source": [
    "Посмотрим зависимость цены от года, видны большие кластеры"
   ]
  },
  {
   "cell_type": "code",
   "execution_count": 52,
   "metadata": {},
   "outputs": [
    {
     "data": {
      "text/plain": [
       "<matplotlib.collections.PathCollection at 0x164c27300a0>"
      ]
     },
     "execution_count": 52,
     "metadata": {},
     "output_type": "execute_result"
    },
    {
     "data": {
      "image/png": "[encoded data removed]",
      "text/plain": [
       "<Figure size 432x288 with 1 Axes>"
      ]
     },
     "metadata": {
      "needs_background": "light"
     },
     "output_type": "display_data"
    }
   ],
   "source": [
    "plt.scatter(df_train.HouseYear, df_train.Price)"
   ]
  },
  {
   "cell_type": "code",
   "execution_count": 53,
   "metadata": {},
   "outputs": [],
   "source": [
    "def feature_cat(X, column, bins):\n",
    "    new_column = column + '_devide'\n",
    "    X[column + '_devide'] = pd.cut(X[column], bins=bins, labels=False)\n",
    "    \n",
    "    X[column + '_devide'].fillna(-1, inplace=True)\n",
    "    return X\n"
   ]
  },
  {
   "cell_type": "code",
   "execution_count": 54,
   "metadata": {},
   "outputs": [],
   "source": [
    "bins_year = [0, 1930, 1950, 1970, 1990,2000, 2021]\n",
    "df_train = feature_cat(df_train, 'HouseYear', bins_year)"
   ]
  },
  {
   "cell_type": "markdown",
   "metadata": {},
   "source": [
    "Посмотрим на заисимость года от квартала, здесь тоже просмотривается некоторая закономерность"
   ]
  },
  {
   "cell_type": "code",
   "execution_count": 55,
   "metadata": {
    "scrolled": true
   },
   "outputs": [
    {
     "data": {
      "text/plain": [
       "<matplotlib.collections.PathCollection at 0x164c4012430>"
      ]
     },
     "execution_count": 55,
     "metadata": {},
     "output_type": "execute_result"
    },
    {
     "data": {
      "image/png": "[encoded data removed]",
      "text/plain": [
       "<Figure size 432x288 with 1 Axes>"
      ]
     },
     "metadata": {
      "needs_background": "light"
     },
     "output_type": "display_data"
    }
   ],
   "source": [
    "plt.scatter(df_train.DistrictWeight, df_train.HouseYear)"
   ]
  },
  {
   "cell_type": "markdown",
   "metadata": {},
   "source": [
    "Предположим, что цена зависит от веса района и от года постройки дома. Вес района при этом мы разаобьем на три группы"
   ]
  },
  {
   "cell_type": "code",
   "execution_count": 56,
   "metadata": {},
   "outputs": [],
   "source": [
    "bins = [0, 0.02, 0.07, 1]\n",
    "df_train = feature_cat(df_train, 'DistrictWeight', bins)"
   ]
  },
  {
   "cell_type": "code",
   "execution_count": 57,
   "metadata": {},
   "outputs": [
    {
     "data": {
      "text/html": [
       "<div>\n",
       "<style scoped>\n",
       "    .dataframe tbody tr th:only-of-type {\n",
       "        vertical-align: middle;\n",
       "    }\n",
       "\n",
       "    .dataframe tbody tr th {\n",
       "        vertical-align: top;\n",
       "    }\n",
       "\n",
       "    .dataframe thead th {\n",
       "        text-align: right;\n",
       "    }\n",
       "</style>\n",
       "<table border=\"1\" class=\"dataframe\">\n",
       "  <thead>\n",
       "    <tr style=\"text-align: right;\">\n",
       "      <th></th>\n",
       "      <th>DistrictWeight_devide</th>\n",
       "      <th>HouseYear_devide</th>\n",
       "      <th>medPrDistrYear</th>\n",
       "    </tr>\n",
       "  </thead>\n",
       "  <tbody>\n",
       "    <tr>\n",
       "      <th>0</th>\n",
       "      <td>0</td>\n",
       "      <td>0</td>\n",
       "      <td>322905.044793</td>\n",
       "    </tr>\n",
       "    <tr>\n",
       "      <th>1</th>\n",
       "      <td>0</td>\n",
       "      <td>1</td>\n",
       "      <td>366653.849466</td>\n",
       "    </tr>\n",
       "    <tr>\n",
       "      <th>2</th>\n",
       "      <td>0</td>\n",
       "      <td>2</td>\n",
       "      <td>193353.221289</td>\n",
       "    </tr>\n",
       "    <tr>\n",
       "      <th>3</th>\n",
       "      <td>0</td>\n",
       "      <td>3</td>\n",
       "      <td>207909.098352</td>\n",
       "    </tr>\n",
       "    <tr>\n",
       "      <th>4</th>\n",
       "      <td>0</td>\n",
       "      <td>4</td>\n",
       "      <td>244351.989279</td>\n",
       "    </tr>\n",
       "    <tr>\n",
       "      <th>5</th>\n",
       "      <td>0</td>\n",
       "      <td>5</td>\n",
       "      <td>256252.283371</td>\n",
       "    </tr>\n",
       "    <tr>\n",
       "      <th>6</th>\n",
       "      <td>1</td>\n",
       "      <td>2</td>\n",
       "      <td>152757.840502</td>\n",
       "    </tr>\n",
       "    <tr>\n",
       "      <th>7</th>\n",
       "      <td>1</td>\n",
       "      <td>3</td>\n",
       "      <td>165602.528456</td>\n",
       "    </tr>\n",
       "    <tr>\n",
       "      <th>8</th>\n",
       "      <td>1</td>\n",
       "      <td>4</td>\n",
       "      <td>195274.434071</td>\n",
       "    </tr>\n",
       "    <tr>\n",
       "      <th>9</th>\n",
       "      <td>1</td>\n",
       "      <td>5</td>\n",
       "      <td>152464.848743</td>\n",
       "    </tr>\n",
       "    <tr>\n",
       "      <th>10</th>\n",
       "      <td>2</td>\n",
       "      <td>2</td>\n",
       "      <td>114320.098260</td>\n",
       "    </tr>\n",
       "    <tr>\n",
       "      <th>11</th>\n",
       "      <td>2</td>\n",
       "      <td>3</td>\n",
       "      <td>147107.942485</td>\n",
       "    </tr>\n",
       "    <tr>\n",
       "      <th>12</th>\n",
       "      <td>2</td>\n",
       "      <td>4</td>\n",
       "      <td>163063.296643</td>\n",
       "    </tr>\n",
       "    <tr>\n",
       "      <th>13</th>\n",
       "      <td>2</td>\n",
       "      <td>5</td>\n",
       "      <td>145368.482889</td>\n",
       "    </tr>\n",
       "  </tbody>\n",
       "</table>\n",
       "</div>"
      ],
      "text/plain": [
       "    DistrictWeight_devide  HouseYear_devide  medPrDistrYear\n",
       "0                       0                 0   322905.044793\n",
       "1                       0                 1   366653.849466\n",
       "2                       0                 2   193353.221289\n",
       "3                       0                 3   207909.098352\n",
       "4                       0                 4   244351.989279\n",
       "5                       0                 5   256252.283371\n",
       "6                       1                 2   152757.840502\n",
       "7                       1                 3   165602.528456\n",
       "8                       1                 4   195274.434071\n",
       "9                       1                 5   152464.848743\n",
       "10                      2                 2   114320.098260\n",
       "11                      2                 3   147107.942485\n",
       "12                      2                 4   163063.296643\n",
       "13                      2                 5   145368.482889"
      ]
     },
     "execution_count": 57,
     "metadata": {},
     "output_type": "execute_result"
    }
   ],
   "source": [
    "med_price_by_distr_year = df_train.groupby(['DistrictWeight_devide', 'HouseYear_devide'], \\\n",
    "                     as_index = False ).agg({'Price' : 'median'}).rename(columns = {'Price' : 'medPrDistrYear' } )\n",
    "med_price_by_distr_year"
   ]
  },
  {
   "cell_type": "markdown",
   "metadata": {},
   "source": [
    "Здесь видна некая закономерность, значит добавим такую переменную в наш датасет"
   ]
  },
  {
   "cell_type": "code",
   "execution_count": 58,
   "metadata": {
    "scrolled": true
   },
   "outputs": [],
   "source": [
    "df_train = df_train.merge(med_price_by_distr_year, on = ['DistrictWeight_devide', 'HouseYear_devide'], how = 'left' )"
   ]
  },
  {
   "cell_type": "markdown",
   "metadata": {},
   "source": [
    "***medPrFloorRooms***"
   ]
  },
  {
   "cell_type": "markdown",
   "metadata": {},
   "source": [
    "Разделим все этажи на 3и категории и посмотрим зависимость цены от категории этажа и колчиества комнат"
   ]
  },
  {
   "cell_type": "code",
   "execution_count": 59,
   "metadata": {},
   "outputs": [],
   "source": [
    "bins_Floor = [0, df_train['Floor'].quantile(0.33), df_train['Floor'].quantile(0.66), df_train['Floor'].max()]\n",
    "\n",
    "df_train = feature_cat(df_train, 'Floor', bins_Floor)"
   ]
  },
  {
   "cell_type": "code",
   "execution_count": 60,
   "metadata": {
    "scrolled": true
   },
   "outputs": [
    {
     "data": {
      "text/html": [
       "<div>\n",
       "<style scoped>\n",
       "    .dataframe tbody tr th:only-of-type {\n",
       "        vertical-align: middle;\n",
       "    }\n",
       "\n",
       "    .dataframe tbody tr th {\n",
       "        vertical-align: top;\n",
       "    }\n",
       "\n",
       "    .dataframe thead th {\n",
       "        text-align: right;\n",
       "    }\n",
       "</style>\n",
       "<table border=\"1\" class=\"dataframe\">\n",
       "  <thead>\n",
       "    <tr style=\"text-align: right;\">\n",
       "      <th></th>\n",
       "      <th>Floor_devide</th>\n",
       "      <th>Rooms</th>\n",
       "      <th>medPrFloorRooms</th>\n",
       "    </tr>\n",
       "  </thead>\n",
       "  <tbody>\n",
       "    <tr>\n",
       "      <th>0</th>\n",
       "      <td>0</td>\n",
       "      <td>1.0</td>\n",
       "      <td>151335.688391</td>\n",
       "    </tr>\n",
       "    <tr>\n",
       "      <th>1</th>\n",
       "      <td>0</td>\n",
       "      <td>2.0</td>\n",
       "      <td>191009.072406</td>\n",
       "    </tr>\n",
       "    <tr>\n",
       "      <th>2</th>\n",
       "      <td>0</td>\n",
       "      <td>3.0</td>\n",
       "      <td>251055.690010</td>\n",
       "    </tr>\n",
       "    <tr>\n",
       "      <th>3</th>\n",
       "      <td>0</td>\n",
       "      <td>4.0</td>\n",
       "      <td>351738.389958</td>\n",
       "    </tr>\n",
       "    <tr>\n",
       "      <th>4</th>\n",
       "      <td>0</td>\n",
       "      <td>5.0</td>\n",
       "      <td>310305.074733</td>\n",
       "    </tr>\n",
       "    <tr>\n",
       "      <th>5</th>\n",
       "      <td>1</td>\n",
       "      <td>1.0</td>\n",
       "      <td>157499.188345</td>\n",
       "    </tr>\n",
       "    <tr>\n",
       "      <th>6</th>\n",
       "      <td>1</td>\n",
       "      <td>2.0</td>\n",
       "      <td>204421.539120</td>\n",
       "    </tr>\n",
       "    <tr>\n",
       "      <th>7</th>\n",
       "      <td>1</td>\n",
       "      <td>3.0</td>\n",
       "      <td>272178.749159</td>\n",
       "    </tr>\n",
       "    <tr>\n",
       "      <th>8</th>\n",
       "      <td>1</td>\n",
       "      <td>4.0</td>\n",
       "      <td>373510.057128</td>\n",
       "    </tr>\n",
       "    <tr>\n",
       "      <th>9</th>\n",
       "      <td>1</td>\n",
       "      <td>5.0</td>\n",
       "      <td>479525.147323</td>\n",
       "    </tr>\n",
       "    <tr>\n",
       "      <th>10</th>\n",
       "      <td>2</td>\n",
       "      <td>1.0</td>\n",
       "      <td>155642.208104</td>\n",
       "    </tr>\n",
       "    <tr>\n",
       "      <th>11</th>\n",
       "      <td>2</td>\n",
       "      <td>2.0</td>\n",
       "      <td>210018.592843</td>\n",
       "    </tr>\n",
       "    <tr>\n",
       "      <th>12</th>\n",
       "      <td>2</td>\n",
       "      <td>3.0</td>\n",
       "      <td>298179.057971</td>\n",
       "    </tr>\n",
       "    <tr>\n",
       "      <th>13</th>\n",
       "      <td>2</td>\n",
       "      <td>4.0</td>\n",
       "      <td>405669.713224</td>\n",
       "    </tr>\n",
       "    <tr>\n",
       "      <th>14</th>\n",
       "      <td>2</td>\n",
       "      <td>5.0</td>\n",
       "      <td>455446.393758</td>\n",
       "    </tr>\n",
       "  </tbody>\n",
       "</table>\n",
       "</div>"
      ],
      "text/plain": [
       "    Floor_devide  Rooms  medPrFloorRooms\n",
       "0              0    1.0    151335.688391\n",
       "1              0    2.0    191009.072406\n",
       "2              0    3.0    251055.690010\n",
       "3              0    4.0    351738.389958\n",
       "4              0    5.0    310305.074733\n",
       "5              1    1.0    157499.188345\n",
       "6              1    2.0    204421.539120\n",
       "7              1    3.0    272178.749159\n",
       "8              1    4.0    373510.057128\n",
       "9              1    5.0    479525.147323\n",
       "10             2    1.0    155642.208104\n",
       "11             2    2.0    210018.592843\n",
       "12             2    3.0    298179.057971\n",
       "13             2    4.0    405669.713224\n",
       "14             2    5.0    455446.393758"
      ]
     },
     "execution_count": 60,
     "metadata": {},
     "output_type": "execute_result"
    }
   ],
   "source": [
    "med_price_by_floor_rooms = df_train.groupby(['Floor_devide', 'Rooms'], \\\n",
    "                     as_index = False ).agg({'Price' : 'median'}).rename(columns = {'Price' : 'medPrFloorRooms' } )\n",
    "med_price_by_floor_rooms"
   ]
  },
  {
   "cell_type": "markdown",
   "metadata": {},
   "source": [
    "Есть некоторые отличия в категориях, поэтому данную переменную тоже будем использовать в нашем датасете"
   ]
  },
  {
   "cell_type": "code",
   "execution_count": 61,
   "metadata": {},
   "outputs": [],
   "source": [
    "df_train = df_train.merge(med_price_by_floor_rooms, on = ['Floor_devide', 'Rooms'], how = 'left' )"
   ]
  },
  {
   "cell_type": "markdown",
   "metadata": {},
   "source": [
    "***medPrSqRooms***"
   ]
  },
  {
   "cell_type": "markdown",
   "metadata": {},
   "source": [
    "Логично предположить, что цена будет зависить от площади и количества комнат. Разделим площадь на три категории и сгруппируем данные. После этого добавим в датасет"
   ]
  },
  {
   "cell_type": "code",
   "execution_count": 62,
   "metadata": {},
   "outputs": [
    {
     "data": {
      "text/html": [
       "<div>\n",
       "<style scoped>\n",
       "    .dataframe tbody tr th:only-of-type {\n",
       "        vertical-align: middle;\n",
       "    }\n",
       "\n",
       "    .dataframe tbody tr th {\n",
       "        vertical-align: top;\n",
       "    }\n",
       "\n",
       "    .dataframe thead th {\n",
       "        text-align: right;\n",
       "    }\n",
       "</style>\n",
       "<table border=\"1\" class=\"dataframe\">\n",
       "  <thead>\n",
       "    <tr style=\"text-align: right;\">\n",
       "      <th></th>\n",
       "      <th>Square_devide</th>\n",
       "      <th>Rooms</th>\n",
       "      <th>medPrSqRooms</th>\n",
       "    </tr>\n",
       "  </thead>\n",
       "  <tbody>\n",
       "    <tr>\n",
       "      <th>0</th>\n",
       "      <td>0</td>\n",
       "      <td>1.0</td>\n",
       "      <td>155487.356111</td>\n",
       "    </tr>\n",
       "    <tr>\n",
       "      <th>1</th>\n",
       "      <td>0</td>\n",
       "      <td>2.0</td>\n",
       "      <td>190132.996752</td>\n",
       "    </tr>\n",
       "    <tr>\n",
       "      <th>2</th>\n",
       "      <td>0</td>\n",
       "      <td>3.0</td>\n",
       "      <td>195831.983247</td>\n",
       "    </tr>\n",
       "    <tr>\n",
       "      <th>3</th>\n",
       "      <td>0</td>\n",
       "      <td>4.0</td>\n",
       "      <td>414427.775300</td>\n",
       "    </tr>\n",
       "    <tr>\n",
       "      <th>4</th>\n",
       "      <td>0</td>\n",
       "      <td>5.0</td>\n",
       "      <td>348917.082537</td>\n",
       "    </tr>\n",
       "    <tr>\n",
       "      <th>5</th>\n",
       "      <td>1</td>\n",
       "      <td>1.0</td>\n",
       "      <td>148890.900714</td>\n",
       "    </tr>\n",
       "    <tr>\n",
       "      <th>6</th>\n",
       "      <td>1</td>\n",
       "      <td>2.0</td>\n",
       "      <td>207218.127195</td>\n",
       "    </tr>\n",
       "    <tr>\n",
       "      <th>7</th>\n",
       "      <td>1</td>\n",
       "      <td>3.0</td>\n",
       "      <td>228590.539282</td>\n",
       "    </tr>\n",
       "    <tr>\n",
       "      <th>8</th>\n",
       "      <td>1</td>\n",
       "      <td>4.0</td>\n",
       "      <td>201374.604049</td>\n",
       "    </tr>\n",
       "    <tr>\n",
       "      <th>9</th>\n",
       "      <td>1</td>\n",
       "      <td>5.0</td>\n",
       "      <td>229661.964416</td>\n",
       "    </tr>\n",
       "    <tr>\n",
       "      <th>10</th>\n",
       "      <td>2</td>\n",
       "      <td>1.0</td>\n",
       "      <td>218718.046451</td>\n",
       "    </tr>\n",
       "    <tr>\n",
       "      <th>11</th>\n",
       "      <td>2</td>\n",
       "      <td>2.0</td>\n",
       "      <td>192999.300757</td>\n",
       "    </tr>\n",
       "    <tr>\n",
       "      <th>12</th>\n",
       "      <td>2</td>\n",
       "      <td>3.0</td>\n",
       "      <td>286866.255723</td>\n",
       "    </tr>\n",
       "    <tr>\n",
       "      <th>13</th>\n",
       "      <td>2</td>\n",
       "      <td>4.0</td>\n",
       "      <td>377460.300501</td>\n",
       "    </tr>\n",
       "    <tr>\n",
       "      <th>14</th>\n",
       "      <td>2</td>\n",
       "      <td>5.0</td>\n",
       "      <td>466756.262983</td>\n",
       "    </tr>\n",
       "  </tbody>\n",
       "</table>\n",
       "</div>"
      ],
      "text/plain": [
       "    Square_devide  Rooms   medPrSqRooms\n",
       "0               0    1.0  155487.356111\n",
       "1               0    2.0  190132.996752\n",
       "2               0    3.0  195831.983247\n",
       "3               0    4.0  414427.775300\n",
       "4               0    5.0  348917.082537\n",
       "5               1    1.0  148890.900714\n",
       "6               1    2.0  207218.127195\n",
       "7               1    3.0  228590.539282\n",
       "8               1    4.0  201374.604049\n",
       "9               1    5.0  229661.964416\n",
       "10              2    1.0  218718.046451\n",
       "11              2    2.0  192999.300757\n",
       "12              2    3.0  286866.255723\n",
       "13              2    4.0  377460.300501\n",
       "14              2    5.0  466756.262983"
      ]
     },
     "execution_count": 62,
     "metadata": {},
     "output_type": "execute_result"
    }
   ],
   "source": [
    "bins_Square = [0, df_train['Square'].quantile(0.33), df_train['Square'].quantile(0.66), df_train['Square'].max()]\n",
    "\n",
    "df_train = feature_cat(df_train, 'Square', bins_Square)\n",
    "\n",
    "med_price_by_Rooms_square= df_train.groupby(['Square_devide', 'Rooms'], \\\n",
    "                     as_index = False ).agg({'Price' : 'median'}).rename(columns = {'Price' : 'medPrSqRooms' } )\n",
    "med_price_by_Rooms_square"
   ]
  },
  {
   "cell_type": "code",
   "execution_count": 64,
   "metadata": {},
   "outputs": [],
   "source": [
    "df_train = df_train.merge(med_price_by_Rooms_square, on = ['Square_devide', 'Rooms'], how = 'left' )"
   ]
  },
  {
   "cell_type": "markdown",
   "metadata": {},
   "source": [
    "***medPrSqFloor***"
   ]
  },
  {
   "cell_type": "markdown",
   "metadata": {},
   "source": [
    "Рассмотрим зависимость цены от площади и этажа"
   ]
  },
  {
   "cell_type": "code",
   "execution_count": 65,
   "metadata": {},
   "outputs": [
    {
     "data": {
      "text/html": [
       "<div>\n",
       "<style scoped>\n",
       "    .dataframe tbody tr th:only-of-type {\n",
       "        vertical-align: middle;\n",
       "    }\n",
       "\n",
       "    .dataframe tbody tr th {\n",
       "        vertical-align: top;\n",
       "    }\n",
       "\n",
       "    .dataframe thead th {\n",
       "        text-align: right;\n",
       "    }\n",
       "</style>\n",
       "<table border=\"1\" class=\"dataframe\">\n",
       "  <thead>\n",
       "    <tr style=\"text-align: right;\">\n",
       "      <th></th>\n",
       "      <th>Square_devide</th>\n",
       "      <th>Floor_devide</th>\n",
       "      <th>medPrSqFloor</th>\n",
       "    </tr>\n",
       "  </thead>\n",
       "  <tbody>\n",
       "    <tr>\n",
       "      <th>0</th>\n",
       "      <td>0</td>\n",
       "      <td>0</td>\n",
       "      <td>159156.866791</td>\n",
       "    </tr>\n",
       "    <tr>\n",
       "      <th>1</th>\n",
       "      <td>0</td>\n",
       "      <td>1</td>\n",
       "      <td>162666.874982</td>\n",
       "    </tr>\n",
       "    <tr>\n",
       "      <th>2</th>\n",
       "      <td>0</td>\n",
       "      <td>2</td>\n",
       "      <td>158294.793125</td>\n",
       "    </tr>\n",
       "    <tr>\n",
       "      <th>3</th>\n",
       "      <td>1</td>\n",
       "      <td>0</td>\n",
       "      <td>193241.905192</td>\n",
       "    </tr>\n",
       "    <tr>\n",
       "      <th>4</th>\n",
       "      <td>1</td>\n",
       "      <td>1</td>\n",
       "      <td>200573.760515</td>\n",
       "    </tr>\n",
       "    <tr>\n",
       "      <th>5</th>\n",
       "      <td>1</td>\n",
       "      <td>2</td>\n",
       "      <td>204373.133307</td>\n",
       "    </tr>\n",
       "    <tr>\n",
       "      <th>6</th>\n",
       "      <td>2</td>\n",
       "      <td>0</td>\n",
       "      <td>241697.820327</td>\n",
       "    </tr>\n",
       "    <tr>\n",
       "      <th>7</th>\n",
       "      <td>2</td>\n",
       "      <td>1</td>\n",
       "      <td>256363.236588</td>\n",
       "    </tr>\n",
       "    <tr>\n",
       "      <th>8</th>\n",
       "      <td>2</td>\n",
       "      <td>2</td>\n",
       "      <td>250122.101897</td>\n",
       "    </tr>\n",
       "  </tbody>\n",
       "</table>\n",
       "</div>"
      ],
      "text/plain": [
       "   Square_devide  Floor_devide   medPrSqFloor\n",
       "0              0             0  159156.866791\n",
       "1              0             1  162666.874982\n",
       "2              0             2  158294.793125\n",
       "3              1             0  193241.905192\n",
       "4              1             1  200573.760515\n",
       "5              1             2  204373.133307\n",
       "6              2             0  241697.820327\n",
       "7              2             1  256363.236588\n",
       "8              2             2  250122.101897"
      ]
     },
     "execution_count": 65,
     "metadata": {},
     "output_type": "execute_result"
    }
   ],
   "source": [
    "\n",
    "med_price_by_floor_square= df_train.groupby(['Square_devide', 'Floor_devide'], \\\n",
    "                        as_index = False ).agg({'Price' : 'median'}).rename(columns = {'Price' : 'medPrSqFloor' } )\n",
    "\n",
    "med_price_by_floor_square"
   ]
  },
  {
   "cell_type": "code",
   "execution_count": 66,
   "metadata": {},
   "outputs": [],
   "source": [
    "df_train = df_train.merge(med_price_by_floor_square, on = ['Square_devide', 'Floor_devide'], how = 'left' )"
   ]
  },
  {
   "cell_type": "code",
   "execution_count": 134,
   "metadata": {},
   "outputs": [],
   "source": [
    "class FeatureCreation:\n",
    "    def __init__(self):\n",
    "        self.change_dict = None\n",
    "        self.KM_mdl = None\n",
    "        self.popular = None\n",
    "        self.District_part = None\n",
    "        self.med_price_by_distr_year = None\n",
    "        self.med_price_by_distr_year_med = None\n",
    "        self.bins_year = None\n",
    "        self.med_price_by_floor_rooms = None\n",
    "        self.med_price_by_floor_rooms_med = None\n",
    "        self.bins_Square = None\n",
    "        self.med_price_by_Rooms_square= None\n",
    "        self.med_price_by_Rooms_square_med =  None\n",
    "        self.med_price_by_floor_square= None\n",
    "        self.med_price_by_floor_square_med =None\n",
    "        self.bins = None\n",
    "        \n",
    "    def feature_cat(X, column, bins):\n",
    "        new_column = column + '_devide'\n",
    "        X[column + '_devide'] = pd.cut(X[column], bins=bins, labels=False)\n",
    "    \n",
    "        X[column + '_devide'].fillna(-1, inplace=True)\n",
    "        return X\n",
    "    \n",
    "    \n",
    "    def fit(self, X, y = None):\n",
    "        X = X.copy()\n",
    "        \n",
    "        #dummy\n",
    "        self.change_dict = {'A' : 0, 'B' : 1}\n",
    "        X[['Shops_2','Ecology_2', 'Ecology_3']] = X[['Shops_2','Ecology_2', 'Ecology_3']].replace(self.change_dict)\n",
    "        #cluster\n",
    "        self.KM_mdl = KMeans(n_clusters=5, random_state=42, max_iter = 100).fit(X)\n",
    "        #DistrictWeight, DistrictPop\n",
    "        self.popular = X.groupby('DistrictId').agg({'DistrictId': 'count'}).rename(columns = {'DistrictId': 'DistrictPopularity'})\n",
    "        self.popular = popular.sort_values(by = 'DistrictPopularity', ascending = False).reset_index()\n",
    "        self.District_part = pd.DataFrame({'DistrictPopularity' : self.popular.DistrictPopularity.sort_values().unique(),\\\n",
    "                              'DistrictWeight' :  self.popular.DistrictPopularity.sort_values().unique() / len(X)})\n",
    "        self.popular = popular.merge(self.District_part, on = 'DistrictPopularity', how = 'left')\n",
    "        \n",
    "        \n",
    "        #TargetEncoding\n",
    "        #District, Year\n",
    "        df = X.copy()\n",
    "        if y is not None:\n",
    "            df['Price'] = y\n",
    "            self.bins_Floor = [0, df['Floor'].quantile(0.33), df['Floor'].quantile(0.66), df['Floor'].max()]\n",
    "            df = feature_cat(df, 'Floor', self.bins_Floor)\n",
    "            self.med_price_by_floor_rooms = df.groupby(['Floor_devide', 'Rooms'], \\\n",
    "                    as_index = False ).agg({'Price' : 'median'}).rename(columns = {'Price' : 'medPrFloorRooms' } )\n",
    "            self.med_price_by_floor_rooms_med =   self.med_price_by_floor_rooms['medPrFloorRooms']\n",
    "        #Square, Rooms\n",
    "        if y is not None: \n",
    "            self.bins_Square = [0, df['Square'].quantile(0.33), df['Square'].quantile(0.66), df['Square'].max()]\n",
    "\n",
    "            self.df_train = feature_cat(df, 'Square', self.bins_Square)\n",
    "\n",
    "            self.med_price_by_Rooms_square= df.groupby(['Square_devide', 'Rooms'], \\\n",
    "                     as_index = False ).agg({'Price' : 'median'}).rename(columns = {'Price' : 'medPrSqRooms' } )\n",
    "            self.med_price_by_Rooms_square_med =  self.med_price_by_Rooms_square['medPrSqRooms'].median()\n",
    "        #Square, Floor\n",
    "        if y is not None: \n",
    "            self.med_price_by_floor_square= df.groupby(['Square_devide', 'Floor_devide'], \\\n",
    "                        as_index = False ).agg({'Price' : 'median'}).rename(columns = {'Price' : 'medPrSqFloor' } )\n",
    "            self.med_price_by_floor_square_med = self.med_price_by_floor_square['medPrSqFloor'].median()\n",
    "        return X\n",
    "        \n",
    "    def transform(self,X):\n",
    "        #dummy\n",
    "        X[['Shops_2','Ecology_2', 'Ecology_3']] = X[['Shops_2','Ecology_2', 'Ecology_3']].replace(self.change_dict)\n",
    "        #cluster\n",
    "        labels = self.KM_mdl.predict(X)\n",
    "        X['Cluster'] = labels\n",
    "        #District\n",
    "        X = X.merge(self.popular, on = 'DistrictId')\n",
    "        X['new_district'] = 0\n",
    "        X.loc[X['DistrictPopularity'].isna(), 'new_district'] = 1\n",
    "        X['DistrictPopularity'].fillna(5, inplace=True)\n",
    "        #SquareVeracity\n",
    " #       X['SquareVeracity'] = 1\n",
    "#        X.loc[(df_train['Square'] < X['LifeSquare'] + X['KitchenSquare']), 'SquareVeracity'] = 0\n",
    "        #TargetEncoding\n",
    "        if self.med_price_by_floor_rooms is not None:\n",
    "            X = feature_cat(X, 'Floor', self.bins_Floor)\n",
    "            X = X.merge(self.med_price_by_floor_rooms, on = ['Floor_devide', 'Rooms'], how = 'left' )\n",
    "            X.fillna(self.med_price_by_floor_rooms_med, inplace=True)\n",
    "        if self.med_price_by_Rooms_square is not None:\n",
    "            X = feature_cat(X, 'Square', self.bins_Floor)\n",
    "            X = X.merge(self.med_price_by_Rooms_square, on = ['Square_devide', 'Rooms'], how = 'left' )\n",
    "            X.fillna(self.med_price_by_Rooms_square_med, inplace=True)\n",
    "        if self.med_price_by_floor_square is not None:\n",
    "            X = X.merge(self.med_price_by_floor_square, on = ['Square_devide', 'Floor_devide'], how = 'left' )\n",
    "            X.fillna(self.med_price_by_floor_square_med, inplace=True)\n",
    "        \n",
    "        \n",
    "        \n",
    "        \n",
    "        return X"
   ]
  },
  {
   "cell_type": "code",
   "execution_count": 118,
   "metadata": {},
   "outputs": [
    {
     "data": {
      "text/html": [
       "<div>\n",
       "<style scoped>\n",
       "    .dataframe tbody tr th:only-of-type {\n",
       "        vertical-align: middle;\n",
       "    }\n",
       "\n",
       "    .dataframe tbody tr th {\n",
       "        vertical-align: top;\n",
       "    }\n",
       "\n",
       "    .dataframe thead th {\n",
       "        text-align: right;\n",
       "    }\n",
       "</style>\n",
       "<table border=\"1\" class=\"dataframe\">\n",
       "  <thead>\n",
       "    <tr style=\"text-align: right;\">\n",
       "      <th></th>\n",
       "      <th>Id</th>\n",
       "      <th>DistrictId</th>\n",
       "      <th>Rooms</th>\n",
       "      <th>Square</th>\n",
       "      <th>LifeSquare</th>\n",
       "      <th>KitchenSquare</th>\n",
       "      <th>Floor</th>\n",
       "      <th>HouseFloor</th>\n",
       "      <th>HouseYear</th>\n",
       "      <th>Ecology_1</th>\n",
       "      <th>...</th>\n",
       "      <th>DistrictPopularity</th>\n",
       "      <th>DistrictWeight_x</th>\n",
       "      <th>DistrictWeight_y</th>\n",
       "      <th>new_district</th>\n",
       "      <th>SquareVeracity</th>\n",
       "      <th>Floor_devide</th>\n",
       "      <th>medPrFloorRooms</th>\n",
       "      <th>Square_devide</th>\n",
       "      <th>medPrSqRooms</th>\n",
       "      <th>medPrSqFloor</th>\n",
       "    </tr>\n",
       "  </thead>\n",
       "  <tbody>\n",
       "    <tr>\n",
       "      <th>0</th>\n",
       "      <td>11809</td>\n",
       "      <td>27</td>\n",
       "      <td>3.0</td>\n",
       "      <td>115.027311</td>\n",
       "      <td>96.563211</td>\n",
       "      <td>10.0</td>\n",
       "      <td>4</td>\n",
       "      <td>10.0</td>\n",
       "      <td>2014</td>\n",
       "      <td>0.075424</td>\n",
       "      <td>...</td>\n",
       "      <td>851</td>\n",
       "      <td>0.0851</td>\n",
       "      <td>0.0851</td>\n",
       "      <td>0</td>\n",
       "      <td>1</td>\n",
       "      <td>0</td>\n",
       "      <td>251055.690010</td>\n",
       "      <td>-1.0</td>\n",
       "      <td>207218.127195</td>\n",
       "      <td>200759.815250</td>\n",
       "    </tr>\n",
       "    <tr>\n",
       "      <th>1</th>\n",
       "      <td>4717</td>\n",
       "      <td>27</td>\n",
       "      <td>1.0</td>\n",
       "      <td>44.203947</td>\n",
       "      <td>25.739847</td>\n",
       "      <td>1.0</td>\n",
       "      <td>2</td>\n",
       "      <td>2.0</td>\n",
       "      <td>1977</td>\n",
       "      <td>0.072158</td>\n",
       "      <td>...</td>\n",
       "      <td>851</td>\n",
       "      <td>0.0851</td>\n",
       "      <td>0.0851</td>\n",
       "      <td>0</td>\n",
       "      <td>1</td>\n",
       "      <td>0</td>\n",
       "      <td>151335.688391</td>\n",
       "      <td>-1.0</td>\n",
       "      <td>207218.127195</td>\n",
       "      <td>200759.815250</td>\n",
       "    </tr>\n",
       "    <tr>\n",
       "      <th>2</th>\n",
       "      <td>7757</td>\n",
       "      <td>27</td>\n",
       "      <td>2.0</td>\n",
       "      <td>58.783661</td>\n",
       "      <td>55.441256</td>\n",
       "      <td>11.0</td>\n",
       "      <td>13</td>\n",
       "      <td>13.0</td>\n",
       "      <td>1977</td>\n",
       "      <td>0.011654</td>\n",
       "      <td>...</td>\n",
       "      <td>851</td>\n",
       "      <td>0.0851</td>\n",
       "      <td>0.0851</td>\n",
       "      <td>0</td>\n",
       "      <td>1</td>\n",
       "      <td>2</td>\n",
       "      <td>210018.592843</td>\n",
       "      <td>-1.0</td>\n",
       "      <td>207218.127195</td>\n",
       "      <td>200759.815250</td>\n",
       "    </tr>\n",
       "    <tr>\n",
       "      <th>3</th>\n",
       "      <td>6846</td>\n",
       "      <td>27</td>\n",
       "      <td>1.0</td>\n",
       "      <td>52.084435</td>\n",
       "      <td>33.620335</td>\n",
       "      <td>6.0</td>\n",
       "      <td>13</td>\n",
       "      <td>17.0</td>\n",
       "      <td>1977</td>\n",
       "      <td>0.072158</td>\n",
       "      <td>...</td>\n",
       "      <td>851</td>\n",
       "      <td>0.0851</td>\n",
       "      <td>0.0851</td>\n",
       "      <td>0</td>\n",
       "      <td>1</td>\n",
       "      <td>2</td>\n",
       "      <td>155642.208104</td>\n",
       "      <td>-1.0</td>\n",
       "      <td>207218.127195</td>\n",
       "      <td>200759.815250</td>\n",
       "    </tr>\n",
       "    <tr>\n",
       "      <th>4</th>\n",
       "      <td>13726</td>\n",
       "      <td>27</td>\n",
       "      <td>1.0</td>\n",
       "      <td>47.557691</td>\n",
       "      <td>22.682321</td>\n",
       "      <td>1.0</td>\n",
       "      <td>16</td>\n",
       "      <td>16.0</td>\n",
       "      <td>1977</td>\n",
       "      <td>0.017647</td>\n",
       "      <td>...</td>\n",
       "      <td>851</td>\n",
       "      <td>0.0851</td>\n",
       "      <td>0.0851</td>\n",
       "      <td>0</td>\n",
       "      <td>1</td>\n",
       "      <td>2</td>\n",
       "      <td>155642.208104</td>\n",
       "      <td>-1.0</td>\n",
       "      <td>207218.127195</td>\n",
       "      <td>200759.815250</td>\n",
       "    </tr>\n",
       "    <tr>\n",
       "      <th>...</th>\n",
       "      <td>...</td>\n",
       "      <td>...</td>\n",
       "      <td>...</td>\n",
       "      <td>...</td>\n",
       "      <td>...</td>\n",
       "      <td>...</td>\n",
       "      <td>...</td>\n",
       "      <td>...</td>\n",
       "      <td>...</td>\n",
       "      <td>...</td>\n",
       "      <td>...</td>\n",
       "      <td>...</td>\n",
       "      <td>...</td>\n",
       "      <td>...</td>\n",
       "      <td>...</td>\n",
       "      <td>...</td>\n",
       "      <td>...</td>\n",
       "      <td>...</td>\n",
       "      <td>...</td>\n",
       "      <td>...</td>\n",
       "      <td>...</td>\n",
       "    </tr>\n",
       "    <tr>\n",
       "      <th>9995</th>\n",
       "      <td>9788</td>\n",
       "      <td>16</td>\n",
       "      <td>3.0</td>\n",
       "      <td>65.101811</td>\n",
       "      <td>45.960026</td>\n",
       "      <td>6.0</td>\n",
       "      <td>10</td>\n",
       "      <td>10.0</td>\n",
       "      <td>1978</td>\n",
       "      <td>0.037178</td>\n",
       "      <td>...</td>\n",
       "      <td>6</td>\n",
       "      <td>0.0006</td>\n",
       "      <td>0.0006</td>\n",
       "      <td>0</td>\n",
       "      <td>0</td>\n",
       "      <td>1</td>\n",
       "      <td>272178.749159</td>\n",
       "      <td>-1.0</td>\n",
       "      <td>207218.127195</td>\n",
       "      <td>200759.815250</td>\n",
       "    </tr>\n",
       "    <tr>\n",
       "      <th>9996</th>\n",
       "      <td>15193</td>\n",
       "      <td>195</td>\n",
       "      <td>3.0</td>\n",
       "      <td>75.564709</td>\n",
       "      <td>44.872616</td>\n",
       "      <td>9.0</td>\n",
       "      <td>5</td>\n",
       "      <td>7.0</td>\n",
       "      <td>1917</td>\n",
       "      <td>0.015017</td>\n",
       "      <td>...</td>\n",
       "      <td>2</td>\n",
       "      <td>0.0002</td>\n",
       "      <td>0.0002</td>\n",
       "      <td>0</td>\n",
       "      <td>1</td>\n",
       "      <td>0</td>\n",
       "      <td>251055.690010</td>\n",
       "      <td>-1.0</td>\n",
       "      <td>207218.127195</td>\n",
       "      <td>200759.815250</td>\n",
       "    </tr>\n",
       "    <tr>\n",
       "      <th>9997</th>\n",
       "      <td>4282</td>\n",
       "      <td>195</td>\n",
       "      <td>5.0</td>\n",
       "      <td>95.617533</td>\n",
       "      <td>62.377052</td>\n",
       "      <td>7.0</td>\n",
       "      <td>7</td>\n",
       "      <td>7.0</td>\n",
       "      <td>1940</td>\n",
       "      <td>0.015017</td>\n",
       "      <td>...</td>\n",
       "      <td>2</td>\n",
       "      <td>0.0002</td>\n",
       "      <td>0.0002</td>\n",
       "      <td>0</td>\n",
       "      <td>0</td>\n",
       "      <td>1</td>\n",
       "      <td>479525.147323</td>\n",
       "      <td>-1.0</td>\n",
       "      <td>207218.127195</td>\n",
       "      <td>200759.815250</td>\n",
       "    </tr>\n",
       "    <tr>\n",
       "      <th>9998</th>\n",
       "      <td>11911</td>\n",
       "      <td>209</td>\n",
       "      <td>1.0</td>\n",
       "      <td>33.533077</td>\n",
       "      <td>18.101125</td>\n",
       "      <td>5.0</td>\n",
       "      <td>7</td>\n",
       "      <td>7.0</td>\n",
       "      <td>1965</td>\n",
       "      <td>0.040243</td>\n",
       "      <td>...</td>\n",
       "      <td>1</td>\n",
       "      <td>0.0001</td>\n",
       "      <td>0.0001</td>\n",
       "      <td>0</td>\n",
       "      <td>1</td>\n",
       "      <td>1</td>\n",
       "      <td>157499.188345</td>\n",
       "      <td>2.0</td>\n",
       "      <td>218718.046451</td>\n",
       "      <td>256363.236588</td>\n",
       "    </tr>\n",
       "    <tr>\n",
       "      <th>9999</th>\n",
       "      <td>14261</td>\n",
       "      <td>174</td>\n",
       "      <td>3.0</td>\n",
       "      <td>65.812757</td>\n",
       "      <td>48.988726</td>\n",
       "      <td>6.0</td>\n",
       "      <td>5</td>\n",
       "      <td>7.0</td>\n",
       "      <td>1935</td>\n",
       "      <td>0.000078</td>\n",
       "      <td>...</td>\n",
       "      <td>1</td>\n",
       "      <td>0.0001</td>\n",
       "      <td>0.0001</td>\n",
       "      <td>0</td>\n",
       "      <td>0</td>\n",
       "      <td>0</td>\n",
       "      <td>251055.690010</td>\n",
       "      <td>-1.0</td>\n",
       "      <td>207218.127195</td>\n",
       "      <td>200759.815250</td>\n",
       "    </tr>\n",
       "  </tbody>\n",
       "</table>\n",
       "<p>10000 rows × 38 columns</p>\n",
       "</div>"
      ],
      "text/plain": [
       "         Id DistrictId  Rooms      Square  LifeSquare  KitchenSquare  Floor  \\\n",
       "0     11809         27    3.0  115.027311   96.563211           10.0      4   \n",
       "1      4717         27    1.0   44.203947   25.739847            1.0      2   \n",
       "2      7757         27    2.0   58.783661   55.441256           11.0     13   \n",
       "3      6846         27    1.0   52.084435   33.620335            6.0     13   \n",
       "4     13726         27    1.0   47.557691   22.682321            1.0     16   \n",
       "...     ...        ...    ...         ...         ...            ...    ...   \n",
       "9995   9788         16    3.0   65.101811   45.960026            6.0     10   \n",
       "9996  15193        195    3.0   75.564709   44.872616            9.0      5   \n",
       "9997   4282        195    5.0   95.617533   62.377052            7.0      7   \n",
       "9998  11911        209    1.0   33.533077   18.101125            5.0      7   \n",
       "9999  14261        174    3.0   65.812757   48.988726            6.0      5   \n",
       "\n",
       "      HouseFloor  HouseYear  Ecology_1  ...  DistrictPopularity  \\\n",
       "0           10.0       2014   0.075424  ...                 851   \n",
       "1            2.0       1977   0.072158  ...                 851   \n",
       "2           13.0       1977   0.011654  ...                 851   \n",
       "3           17.0       1977   0.072158  ...                 851   \n",
       "4           16.0       1977   0.017647  ...                 851   \n",
       "...          ...        ...        ...  ...                 ...   \n",
       "9995        10.0       1978   0.037178  ...                   6   \n",
       "9996         7.0       1917   0.015017  ...                   2   \n",
       "9997         7.0       1940   0.015017  ...                   2   \n",
       "9998         7.0       1965   0.040243  ...                   1   \n",
       "9999         7.0       1935   0.000078  ...                   1   \n",
       "\n",
       "      DistrictWeight_x  DistrictWeight_y  new_district  SquareVeracity  \\\n",
       "0               0.0851            0.0851             0               1   \n",
       "1               0.0851            0.0851             0               1   \n",
       "2               0.0851            0.0851             0               1   \n",
       "3               0.0851            0.0851             0               1   \n",
       "4               0.0851            0.0851             0               1   \n",
       "...                ...               ...           ...             ...   \n",
       "9995            0.0006            0.0006             0               0   \n",
       "9996            0.0002            0.0002             0               1   \n",
       "9997            0.0002            0.0002             0               0   \n",
       "9998            0.0001            0.0001             0               1   \n",
       "9999            0.0001            0.0001             0               0   \n",
       "\n",
       "      Floor_devide  medPrFloorRooms  Square_devide   medPrSqRooms  \\\n",
       "0                0    251055.690010           -1.0  207218.127195   \n",
       "1                0    151335.688391           -1.0  207218.127195   \n",
       "2                2    210018.592843           -1.0  207218.127195   \n",
       "3                2    155642.208104           -1.0  207218.127195   \n",
       "4                2    155642.208104           -1.0  207218.127195   \n",
       "...            ...              ...            ...            ...   \n",
       "9995             1    272178.749159           -1.0  207218.127195   \n",
       "9996             0    251055.690010           -1.0  207218.127195   \n",
       "9997             1    479525.147323           -1.0  207218.127195   \n",
       "9998             1    157499.188345            2.0  218718.046451   \n",
       "9999             0    251055.690010           -1.0  207218.127195   \n",
       "\n",
       "       medPrSqFloor  \n",
       "0     200759.815250  \n",
       "1     200759.815250  \n",
       "2     200759.815250  \n",
       "3     200759.815250  \n",
       "4     200759.815250  \n",
       "...             ...  \n",
       "9995  200759.815250  \n",
       "9996  200759.815250  \n",
       "9997  200759.815250  \n",
       "9998  256363.236588  \n",
       "9999  200759.815250  \n",
       "\n",
       "[10000 rows x 38 columns]"
      ]
     },
     "execution_count": 118,
     "metadata": {},
     "output_type": "execute_result"
    }
   ],
   "source": [
    "df_train = pd.read_csv('train.csv', sep = ',')\n",
    "proc = DataPreprocessing()\n",
    "y = df_train['Price']\n",
    "proc.fit(df_train)\n",
    "df_train = proc.transform(df_train)\n",
    "feats = FeatureCreation()\n",
    "feats.fit(df_train.drop('Price', axis = 1), y = y)\n",
    "df_train = feats.transform(df_train.drop('Price', axis = 1))\n",
    "df_train"
   ]
  },
  {
   "cell_type": "markdown",
   "metadata": {},
   "source": [
    "#### Выбор признаков"
   ]
  },
  {
   "cell_type": "code",
   "execution_count": 119,
   "metadata": {},
   "outputs": [
    {
     "data": {
      "text/plain": [
       "Index(['Id', 'DistrictId', 'Rooms', 'Square', 'LifeSquare', 'KitchenSquare',\n",
       "       'Floor', 'HouseFloor', 'HouseYear', 'Ecology_1', 'Ecology_2',\n",
       "       'Ecology_3', 'Social_1', 'Social_2', 'Social_3', 'Healthcare_1',\n",
       "       'Helthcare_2', 'Shops_1', 'Shops_2', 'Rooms_outlier', 'Square_outlier',\n",
       "       'KitchenSquare_outlier', 'LifeSquare_outlier', 'LifeSquare2',\n",
       "       'LifeSquare_NA', 'Healthcare1_NA', 'HC1_med', 'Cluster',\n",
       "       'DistrictPopularity', 'DistrictWeight_x', 'DistrictWeight_y',\n",
       "       'new_district', 'SquareVeracity', 'Floor_devide', 'medPrFloorRooms',\n",
       "       'Square_devide', 'medPrSqRooms', 'medPrSqFloor'],\n",
       "      dtype='object')"
      ]
     },
     "execution_count": 119,
     "metadata": {},
     "output_type": "execute_result"
    }
   ],
   "source": [
    "df_train.columns"
   ]
  },
  {
   "cell_type": "code",
   "execution_count": 136,
   "metadata": {},
   "outputs": [],
   "source": [
    "feature_names = ['Rooms', 'Square', 'KitchenSquare', 'Floor', 'HouseFloor', 'HouseYear',\n",
    "                 'Ecology_1', 'Ecology_2', 'Ecology_3', 'Social_1', 'Social_2', 'Social_3',\n",
    "                 'Helthcare_2', 'Shops_1', 'Shops_2']\n",
    "feature_names2 = 'LifeSquare'\n",
    "feature_names3 = 'LifeSquare2'\n",
    "new_feature_names = ['Rooms_outlier', 'Square_outlier', 'KitchenSquare_outlier', 'LifeSquare_outlier',\n",
    "       'LifeSquare2', 'LifeSquare_NA', 'Healthcare1_NA']\n",
    "cluster = 'Cluster'\n",
    "district = ['DistrictPopularity', 'DistrictWeight_x']\n",
    "traget_encoding =['medPrFloorRooms', 'medPrSqRooms', 'medPrSqFloor']\n",
    "\n",
    "target_name = 'Price'"
   ]
  },
  {
   "cell_type": "markdown",
   "metadata": {},
   "source": [
    "***Разбиение на тест и трейн***"
   ]
  },
  {
   "cell_type": "code",
   "execution_count": 137,
   "metadata": {},
   "outputs": [],
   "source": [
    "train_df = pd.read_csv(DATA_PATH_TRAIN)\n",
    "test_df = pd.read_csv(DATA_TEST_PATH)\n",
    "\n",
    "X = train_df.drop(columns=target_name)\n",
    "y = train_df[target_name]"
   ]
  },
  {
   "cell_type": "code",
   "execution_count": 138,
   "metadata": {},
   "outputs": [],
   "source": [
    "X_train, X_valid, y_train, y_valid = train_test_split(X, y, test_size=0.33, shuffle=True, random_state=21)"
   ]
  },
  {
   "cell_type": "code",
   "execution_count": 139,
   "metadata": {},
   "outputs": [
    {
     "data": {
      "text/plain": [
       "((6700, 27), (3300, 27), (5000, 27))"
      ]
     },
     "execution_count": 139,
     "metadata": {},
     "output_type": "execute_result"
    }
   ],
   "source": [
    "proc = DataPreprocessing()\n",
    "\n",
    "proc.fit(X_train)\n",
    "\n",
    "X_train = proc.transform(X_train)\n",
    "X_valid = proc.transform(X_valid)\n",
    "test_df = proc.transform(test_df)\n",
    "\n",
    "X_train.shape, X_valid.shape, test_df.shape"
   ]
  },
  {
   "cell_type": "code",
   "execution_count": 140,
   "metadata": {},
   "outputs": [
    {
     "data": {
      "text/plain": [
       "((6700, 37), (3300, 37), (4992, 37))"
      ]
     },
     "execution_count": 140,
     "metadata": {},
     "output_type": "execute_result"
    }
   ],
   "source": [
    "features_gen = FeatureCreation()\n",
    "features_gen.fit(X_train, y = y_train)\n",
    "\n",
    "X_train = features_gen.transform(X_train)\n",
    "X_valid = features_gen.transform(X_valid)\n",
    "test_df = features_gen.transform(test_df)\n",
    "\n",
    "X_train.shape, X_valid.shape, test_df.shape"
   ]
  },
  {
   "cell_type": "markdown",
   "metadata": {},
   "source": [
    "***Обучение модели***"
   ]
  },
  {
   "cell_type": "code",
   "execution_count": 149,
   "metadata": {},
   "outputs": [],
   "source": [
    "from sklearn.neighbors import KNeighborsRegressor\n",
    "kn_model = KNeighborsRegressor(n_neighbors=5, leaf_size=30)\n",
    "kn_model.fit(X_train, y_train)\n",
    "y_train_preds = kn_model.predict(X_train)\n",
    "y_test_preds = kn_model.predict(X_valid)"
   ]
  },
  {
   "cell_type": "code",
   "execution_count": 144,
   "metadata": {},
   "outputs": [
    {
     "data": {
      "text/plain": [
       "StackingRegressor(estimators=[('lr', LinearRegression()),\n",
       "                              ('kn', KNeighborsRegressor())],\n",
       "                  final_estimator=GradientBoostingRegressor())"
      ]
     },
     "execution_count": 144,
     "metadata": {},
     "output_type": "execute_result"
    }
   ],
   "source": [
    "from sklearn.ensemble import StackingRegressor, GradientBoostingRegressor\n",
    "from sklearn.linear_model import LinearRegression\n",
    "\n",
    "lr = LinearRegression()\n",
    "gb = GradientBoostingRegressor()\n",
    "stack = StackingRegressor([('lr', lr), ('kn', kn_model)], final_estimator=gb)\n",
    "stack.fit(X_train, y_train)"
   ]
  },
  {
   "cell_type": "code",
   "execution_count": 150,
   "metadata": {},
   "outputs": [
    {
     "data": {
      "image/png": "[encoded data removed]",
      "text/plain": [
       "<Figure size 1440x720 with 2 Axes>"
      ]
     },
     "metadata": {
      "needs_background": "light"
     },
     "output_type": "display_data"
    }
   ],
   "source": [
    "y_train_preds = stack.predict(X_train)\n",
    "y_test_preds = stack.predict(X_valid)\n",
    "\n",
    "pred_test_plot(y_train_preds, y_train, y_test_preds, y_valid)\n"
   ]
  },
  {
   "cell_type": "code",
   "execution_count": 151,
   "metadata": {},
   "outputs": [
    {
     "name": "stdout",
     "output_type": "stream",
     "text": [
      "Ошибка R2: 0.0019267534868723235\n"
     ]
    }
   ],
   "source": [
    "predict_error(y_train_preds, y_train, metric = 'r2')\n",
    "predict_error(y_train_preds, y_train, metric = 'r2')"
   ]
  }
 ],
 "metadata": {
  "kernelspec": {
   "display_name": "Python 3",
   "language": "python",
   "name": "python3"
  },
  "language_info": {
   "codemirror_mode": {
    "name": "ipython",
    "version": 3
   },
   "file_extension": ".py",
   "mimetype": "text/x-python",
   "name": "python",
   "nbconvert_exporter": "python",
   "pygments_lexer": "ipython3",
   "version": "3.8.5"
  }
 },
 "nbformat": 4,
 "nbformat_minor": 4
}
