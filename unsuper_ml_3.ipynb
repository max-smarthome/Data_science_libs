{
 "cells": [
  {
   "cell_type": "markdown",
   "metadata": {},
   "source": [
    "\n",
    "*Задание 6\n",
    "\n",
    "Используйте \"Olivetti faces data-set from AT&T\" из встроенных наборов данных библиотеки sklearn.\n",
    "Обучить любую модель классификации на этом датасете до применения PCA (количество компонент подберите самостоятельно) и после него. Сравнить качество классификации по отложенной выборке.\n"
   ]
  },
  {
   "cell_type": "code",
   "execution_count": 148,
   "metadata": {},
   "outputs": [],
   "source": [
    "import pandas as pd\n",
    "import numpy as np\n",
    "from matplotlib import pyplot as plt\n",
    "from sklearn.datasets import fetch_olivetti_faces\n",
    "from sklearn.model_selection import train_test_split\n",
    "from sklearn.preprocessing import MinMaxScaler\n",
    "from sklearn.preprocessing import StandardScaler\n",
    "from sklearn.svm import SVC\n",
    "from sklearn.preprocessing import RobustScaler\n",
    "from sklearn.neighbors import KNeighborsClassifier\n",
    "from sklearn.metrics import accuracy_score\n",
    "import warnings\n",
    "\n",
    "warnings.filterwarnings('ignore')"
   ]
  },
  {
   "cell_type": "code",
   "execution_count": 29,
   "metadata": {},
   "outputs": [],
   "source": [
    "from sklearn.linear_model import LinearRegression\n",
    "from sklearn.metrics import mean_squared_error as mse\n",
    "from sklearn.metrics import mean_absolute_error as mae\n",
    "from sklearn.metrics import r2_score as r2\n",
    "from sklearn.decomposition import PCA"
   ]
  },
  {
   "cell_type": "code",
   "execution_count": 22,
   "metadata": {},
   "outputs": [],
   "source": [
    "def errors(Pred, Test):\n",
    "    mse1 = mse(Pred, Test) \n",
    "    mae1 = mae(Pred, Test) \n",
    "    r2_1 = r2(Pred, Test)\n",
    "    return {'mse': mse1, 'mae': mae1, 'r2': r2_1}\n"
   ]
  },
  {
   "cell_type": "code",
   "execution_count": 23,
   "metadata": {},
   "outputs": [],
   "source": [
    "data = fetch_olivetti_faces(return_X_y = True)"
   ]
  },
  {
   "cell_type": "code",
   "execution_count": 62,
   "metadata": {},
   "outputs": [
    {
     "data": {
      "text/plain": [
       "(400, 4096)"
      ]
     },
     "execution_count": 62,
     "metadata": {},
     "output_type": "execute_result"
    }
   ],
   "source": [
    "X = data[0]\n",
    "y = data[1]\n",
    "X.shape"
   ]
  },
  {
   "cell_type": "code",
   "execution_count": 63,
   "metadata": {},
   "outputs": [],
   "source": [
    "X_train, X_test, y_train, y_test = train_test_split(X, y, test_size = 0.3, random_state = 91)"
   ]
  },
  {
   "cell_type": "code",
   "execution_count": 144,
   "metadata": {},
   "outputs": [],
   "source": [
    "scaler = StandardScaler()\n",
    "\n",
    "X_train_mms = scaler.fit_transform(X_train)\n",
    "\n",
    "X_test_mms = scaler.transform(X_test)\n",
    "\n",
    "scaler_rs = RobustScaler()\n",
    "\n",
    "X_train_rs = scaler_rs.fit_transform(X_train)\n",
    "\n",
    "X_test_rs = scaler_rs.transform(X_test)"
   ]
  },
  {
   "cell_type": "code",
   "execution_count": 134,
   "metadata": {},
   "outputs": [
    {
     "data": {
      "text/plain": [
       "SVC(C=100, gamma='auto')"
      ]
     },
     "execution_count": 134,
     "metadata": {},
     "output_type": "execute_result"
    }
   ],
   "source": [
    "svc = SVC(C = 100, gamma = 'auto')\n",
    "svc.fit(X_train_mms, y_train)"
   ]
  },
  {
   "cell_type": "code",
   "execution_count": 149,
   "metadata": {},
   "outputs": [],
   "source": [
    "y_pred = svc.predict(X_test_mms)\n",
    "y_pred_tr = svc.predict(X_train_mms)\n",
    "err_tst = accuracy_score(y_pred, y_test)"
   ]
  },
  {
   "cell_type": "markdown",
   "metadata": {},
   "source": [
    "Применим PCA к нашим данным"
   ]
  },
  {
   "cell_type": "code",
   "execution_count": 116,
   "metadata": {},
   "outputs": [
    {
     "name": "stdout",
     "output_type": "stream",
     "text": [
      "[58, 101, 198]\n"
     ]
    }
   ],
   "source": [
    "#узнаем сколько главных компонент  с самой большой объяснённой дисперсией \n",
    "#нужно для сохранения 90, 95 и 99 процентов информации.\n",
    "pca = PCA(random_state=100)\n",
    "comp = []\n",
    "pca.fit(X_train_mms)\n",
    "for j in [0.9, 0.95, 0.99]:\n",
    "    for i in range(len(pca.explained_variance_ratio_)):\n",
    "        if pca.explained_variance_ratio_[:i].sum() > j:\n",
    "            comp.append(i)\n",
    "            break\n",
    "print(comp)\n"
   ]
  },
  {
   "cell_type": "code",
   "execution_count": 150,
   "metadata": {},
   "outputs": [],
   "source": [
    "pca_1 = PCA(n_components=comp[0], random_state=100)\n",
    "X_train_mc_1 = pca_1.fit_transform(X_train_mms)\n",
    "X_test_mc_1 = pca_1.transform(X_test_mms)\n",
    "\n",
    "svc_1 = SVC(C= 100, gamma = 'auto')\n",
    "svc_1.fit(X_train_mc_1, y_train)\n",
    "y_pred_mc_1 = svc_1.predict(X_test_mc_1)\n",
    "err_tst_mc_1 = accuracy_score(y_pred_mc_1, y_test)"
   ]
  },
  {
   "cell_type": "code",
   "execution_count": 151,
   "metadata": {},
   "outputs": [],
   "source": [
    "pca_2 = PCA(n_components=comp[1], random_state=100)\n",
    "X_train_mc_2 = pca_2.fit_transform(X_train_mms)\n",
    "X_test_mc_2 = pca_2.transform(X_test_mms)\n",
    "\n",
    "svc_2 = SVC(C = 100, gamma = 'auto')\n",
    "svc_2.fit(X_train_mc_2, y_train)\n",
    "y_pred_mc_2 = svc_2.predict(X_test_mc_2)\n",
    "err_tst_mc_2 = accuracy_score(y_pred_mc_2, y_test)"
   ]
  },
  {
   "cell_type": "code",
   "execution_count": 152,
   "metadata": {},
   "outputs": [],
   "source": [
    "pca_3 = PCA(n_components=comp[2], random_state=100)\n",
    "X_train_mc_3 = pca_3.fit_transform(X_train_mms)\n",
    "X_test_mc_3 = pca_3.transform(X_test_mms)\n",
    "\n",
    "svc_3 = SVC(C = 100, gamma = 'auto')\n",
    "svc_3.fit(X_train_mc_3, y_train)\n",
    "y_pred_mc_3 = svc_3.predict(X_test_mc_3)\n",
    "err_tst_mc_3 = accuracy_score(y_pred_mc_3, y_test)"
   ]
  },
  {
   "cell_type": "markdown",
   "metadata": {},
   "source": [
    "Сравним величины ошибок"
   ]
  },
  {
   "cell_type": "code",
   "execution_count": 154,
   "metadata": {},
   "outputs": [
    {
     "name": "stdout",
     "output_type": "stream",
     "text": [
      "Тестовые данные\n",
      "Ошибка до PCA: 0.925\n",
      "Ошибка после PCA(90% сохраненной информации): 0.025\n",
      "Ошибка после PCA(95% сохраненной информации): 0.025\n",
      "Ошибка после PCA(95% сохраненной информации): 0.075\n"
     ]
    }
   ],
   "source": [
    "print('Тестовые данные')\n",
    "print('Ошибка до PCA: {}' .format(err_tst))\n",
    "print('Ошибка после PCA(90% сохраненной информации): {}' .format(err_tst_mc_1))\n",
    "print('Ошибка после PCA(95% сохраненной информации): {}' .format(err_tst_mc_2))\n",
    "print('Ошибка после PCA(95% сохраненной информации): {}' .format(err_tst_mc_3))"
   ]
  },
  {
   "cell_type": "markdown",
   "metadata": {},
   "source": [
    "Видно, что для SVC сокращение признаков - критично. Попробуем KNN и оставим 99% информации"
   ]
  },
  {
   "cell_type": "code",
   "execution_count": 161,
   "metadata": {},
   "outputs": [],
   "source": [
    "clf = KNeighborsClassifier(n_neighbors=6)\n",
    "\n",
    "clf.fit(X_train_rs, y_train)\n",
    "\n",
    "y_pred_knn = clf.predict(X_test_rs)\n",
    "err_knn = accuracy_score(y_pred_knn, y_test)"
   ]
  },
  {
   "cell_type": "code",
   "execution_count": 162,
   "metadata": {},
   "outputs": [],
   "source": [
    "pca_4 = PCA(n_components=comp[2], random_state=100)\n",
    "X_train_rs_mc = pca_4.fit_transform(X_train_rs)\n",
    "X_test_rs_mc = pca_4.transform(X_test_rs)\n",
    "\n",
    "clf_1 = KNeighborsClassifier(n_neighbors=6)\n",
    "clf_1.fit(X_train_rs_mc, y_train)\n",
    "y_pred_mc_knn = clf_1.predict(X_test_rs_mc)\n",
    "err_mc_knn = accuracy_score(y_pred_mc_knn, y_test)"
   ]
  },
  {
   "cell_type": "code",
   "execution_count": 164,
   "metadata": {},
   "outputs": [],
   "source": [
    "pca_5 = PCA(n_components=comp[1], random_state=100)\n",
    "X_train_rs_mc_1 = pca_5.fit_transform(X_train_rs)\n",
    "X_test_rs_mc_1 = pca_5.transform(X_test_rs)\n",
    "\n",
    "clf_2 = KNeighborsClassifier(n_neighbors=6)\n",
    "clf_2.fit(X_train_rs_mc_1, y_train)\n",
    "y_pred_mc_knn_1 = clf_2.predict(X_test_rs_mc_1)\n",
    "err_mc_knn_1 = accuracy_score(y_pred_mc_knn_1, y_test)"
   ]
  },
  {
   "cell_type": "code",
   "execution_count": 165,
   "metadata": {},
   "outputs": [
    {
     "name": "stdout",
     "output_type": "stream",
     "text": [
      "Ошибка до PCA:0.675\n",
      "Ошибка после PCA(99% сохраненной информации): 0.6833333333333333\n",
      "Ошибка после PCA(95% сохраненной информации): 0.6666666666666666\n"
     ]
    }
   ],
   "source": [
    "print('Ошибка до PCA:{}'.format(err_knn) )\n",
    "print('Ошибка после PCA(99% сохраненной информации): {}' .format(err_mc_knn))\n",
    "print('Ошибка после PCA(95% сохраненной информации): {}' .format(err_mc_knn_1))"
   ]
  },
  {
   "cell_type": "markdown",
   "metadata": {},
   "source": [
    "В случае сохранения 99% информации модель даже лучше, при 95% ошибка уже хуже"
   ]
  }
 ],
 "metadata": {
  "kernelspec": {
   "display_name": "Python 3",
   "language": "python",
   "name": "python3"
  },
  "language_info": {
   "codemirror_mode": {
    "name": "ipython",
    "version": 3
   },
   "file_extension": ".py",
   "mimetype": "text/x-python",
   "name": "python",
   "nbconvert_exporter": "python",
   "pygments_lexer": "ipython3",
   "version": "3.8.5"
  }
 },
 "nbformat": 4,
 "nbformat_minor": 4
}
